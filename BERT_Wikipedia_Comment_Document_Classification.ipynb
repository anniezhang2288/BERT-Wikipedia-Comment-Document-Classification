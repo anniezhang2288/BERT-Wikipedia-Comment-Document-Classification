{
  "nbformat": 4,
  "nbformat_minor": 0,
  "metadata": {
    "colab": {
      "provenance": [],
      "gpuType": "T4",
      "authorship_tag": "ABX9TyMW9rCEDaDmWAadOy+Yyypw",
      "include_colab_link": true
    },
    "kernelspec": {
      "name": "python3",
      "display_name": "Python 3"
    },
    "language_info": {
      "name": "python"
    },
    "accelerator": "GPU",
    "widgets": {
      "application/vnd.jupyter.widget-state+json": {
        "509f2b28f86c457aada6fb1140a6c3ea": {
          "model_module": "@jupyter-widgets/controls",
          "model_name": "HBoxModel",
          "model_module_version": "1.5.0",
          "state": {
            "_dom_classes": [],
            "_model_module": "@jupyter-widgets/controls",
            "_model_module_version": "1.5.0",
            "_model_name": "HBoxModel",
            "_view_count": null,
            "_view_module": "@jupyter-widgets/controls",
            "_view_module_version": "1.5.0",
            "_view_name": "HBoxView",
            "box_style": "",
            "children": [
              "IPY_MODEL_42ef4e7f32d44c139a4e3194a0350f60",
              "IPY_MODEL_bb6dd4e7352340e2a828b6e6d57019cb",
              "IPY_MODEL_9454c1c979aa468981827f076345bc50"
            ],
            "layout": "IPY_MODEL_9f84f562de074fd1a0a0669a3a05a2e6"
          }
        },
        "42ef4e7f32d44c139a4e3194a0350f60": {
          "model_module": "@jupyter-widgets/controls",
          "model_name": "HTMLModel",
          "model_module_version": "1.5.0",
          "state": {
            "_dom_classes": [],
            "_model_module": "@jupyter-widgets/controls",
            "_model_module_version": "1.5.0",
            "_model_name": "HTMLModel",
            "_view_count": null,
            "_view_module": "@jupyter-widgets/controls",
            "_view_module_version": "1.5.0",
            "_view_name": "HTMLView",
            "description": "",
            "description_tooltip": null,
            "layout": "IPY_MODEL_9d2b4f9c593d4b788b63620a7446788a",
            "placeholder": "​",
            "style": "IPY_MODEL_5afd71f8aa454ba58ff05a08b97362ad",
            "value": "tokenizer_config.json: 100%"
          }
        },
        "bb6dd4e7352340e2a828b6e6d57019cb": {
          "model_module": "@jupyter-widgets/controls",
          "model_name": "FloatProgressModel",
          "model_module_version": "1.5.0",
          "state": {
            "_dom_classes": [],
            "_model_module": "@jupyter-widgets/controls",
            "_model_module_version": "1.5.0",
            "_model_name": "FloatProgressModel",
            "_view_count": null,
            "_view_module": "@jupyter-widgets/controls",
            "_view_module_version": "1.5.0",
            "_view_name": "ProgressView",
            "bar_style": "success",
            "description": "",
            "description_tooltip": null,
            "layout": "IPY_MODEL_05cd90e448854424ac69b6d3685d029c",
            "max": 28,
            "min": 0,
            "orientation": "horizontal",
            "style": "IPY_MODEL_1d135a4a416d4e479dcde8391bdfd7e8",
            "value": 28
          }
        },
        "9454c1c979aa468981827f076345bc50": {
          "model_module": "@jupyter-widgets/controls",
          "model_name": "HTMLModel",
          "model_module_version": "1.5.0",
          "state": {
            "_dom_classes": [],
            "_model_module": "@jupyter-widgets/controls",
            "_model_module_version": "1.5.0",
            "_model_name": "HTMLModel",
            "_view_count": null,
            "_view_module": "@jupyter-widgets/controls",
            "_view_module_version": "1.5.0",
            "_view_name": "HTMLView",
            "description": "",
            "description_tooltip": null,
            "layout": "IPY_MODEL_4d29cf11d5dc46e1ad9b7ace0af29b17",
            "placeholder": "​",
            "style": "IPY_MODEL_80d7d252c89a46a4a603f40db1c9077e",
            "value": " 28.0/28.0 [00:00&lt;00:00, 607B/s]"
          }
        },
        "9f84f562de074fd1a0a0669a3a05a2e6": {
          "model_module": "@jupyter-widgets/base",
          "model_name": "LayoutModel",
          "model_module_version": "1.2.0",
          "state": {
            "_model_module": "@jupyter-widgets/base",
            "_model_module_version": "1.2.0",
            "_model_name": "LayoutModel",
            "_view_count": null,
            "_view_module": "@jupyter-widgets/base",
            "_view_module_version": "1.2.0",
            "_view_name": "LayoutView",
            "align_content": null,
            "align_items": null,
            "align_self": null,
            "border": null,
            "bottom": null,
            "display": null,
            "flex": null,
            "flex_flow": null,
            "grid_area": null,
            "grid_auto_columns": null,
            "grid_auto_flow": null,
            "grid_auto_rows": null,
            "grid_column": null,
            "grid_gap": null,
            "grid_row": null,
            "grid_template_areas": null,
            "grid_template_columns": null,
            "grid_template_rows": null,
            "height": null,
            "justify_content": null,
            "justify_items": null,
            "left": null,
            "margin": null,
            "max_height": null,
            "max_width": null,
            "min_height": null,
            "min_width": null,
            "object_fit": null,
            "object_position": null,
            "order": null,
            "overflow": null,
            "overflow_x": null,
            "overflow_y": null,
            "padding": null,
            "right": null,
            "top": null,
            "visibility": null,
            "width": null
          }
        },
        "9d2b4f9c593d4b788b63620a7446788a": {
          "model_module": "@jupyter-widgets/base",
          "model_name": "LayoutModel",
          "model_module_version": "1.2.0",
          "state": {
            "_model_module": "@jupyter-widgets/base",
            "_model_module_version": "1.2.0",
            "_model_name": "LayoutModel",
            "_view_count": null,
            "_view_module": "@jupyter-widgets/base",
            "_view_module_version": "1.2.0",
            "_view_name": "LayoutView",
            "align_content": null,
            "align_items": null,
            "align_self": null,
            "border": null,
            "bottom": null,
            "display": null,
            "flex": null,
            "flex_flow": null,
            "grid_area": null,
            "grid_auto_columns": null,
            "grid_auto_flow": null,
            "grid_auto_rows": null,
            "grid_column": null,
            "grid_gap": null,
            "grid_row": null,
            "grid_template_areas": null,
            "grid_template_columns": null,
            "grid_template_rows": null,
            "height": null,
            "justify_content": null,
            "justify_items": null,
            "left": null,
            "margin": null,
            "max_height": null,
            "max_width": null,
            "min_height": null,
            "min_width": null,
            "object_fit": null,
            "object_position": null,
            "order": null,
            "overflow": null,
            "overflow_x": null,
            "overflow_y": null,
            "padding": null,
            "right": null,
            "top": null,
            "visibility": null,
            "width": null
          }
        },
        "5afd71f8aa454ba58ff05a08b97362ad": {
          "model_module": "@jupyter-widgets/controls",
          "model_name": "DescriptionStyleModel",
          "model_module_version": "1.5.0",
          "state": {
            "_model_module": "@jupyter-widgets/controls",
            "_model_module_version": "1.5.0",
            "_model_name": "DescriptionStyleModel",
            "_view_count": null,
            "_view_module": "@jupyter-widgets/base",
            "_view_module_version": "1.2.0",
            "_view_name": "StyleView",
            "description_width": ""
          }
        },
        "05cd90e448854424ac69b6d3685d029c": {
          "model_module": "@jupyter-widgets/base",
          "model_name": "LayoutModel",
          "model_module_version": "1.2.0",
          "state": {
            "_model_module": "@jupyter-widgets/base",
            "_model_module_version": "1.2.0",
            "_model_name": "LayoutModel",
            "_view_count": null,
            "_view_module": "@jupyter-widgets/base",
            "_view_module_version": "1.2.0",
            "_view_name": "LayoutView",
            "align_content": null,
            "align_items": null,
            "align_self": null,
            "border": null,
            "bottom": null,
            "display": null,
            "flex": null,
            "flex_flow": null,
            "grid_area": null,
            "grid_auto_columns": null,
            "grid_auto_flow": null,
            "grid_auto_rows": null,
            "grid_column": null,
            "grid_gap": null,
            "grid_row": null,
            "grid_template_areas": null,
            "grid_template_columns": null,
            "grid_template_rows": null,
            "height": null,
            "justify_content": null,
            "justify_items": null,
            "left": null,
            "margin": null,
            "max_height": null,
            "max_width": null,
            "min_height": null,
            "min_width": null,
            "object_fit": null,
            "object_position": null,
            "order": null,
            "overflow": null,
            "overflow_x": null,
            "overflow_y": null,
            "padding": null,
            "right": null,
            "top": null,
            "visibility": null,
            "width": null
          }
        },
        "1d135a4a416d4e479dcde8391bdfd7e8": {
          "model_module": "@jupyter-widgets/controls",
          "model_name": "ProgressStyleModel",
          "model_module_version": "1.5.0",
          "state": {
            "_model_module": "@jupyter-widgets/controls",
            "_model_module_version": "1.5.0",
            "_model_name": "ProgressStyleModel",
            "_view_count": null,
            "_view_module": "@jupyter-widgets/base",
            "_view_module_version": "1.2.0",
            "_view_name": "StyleView",
            "bar_color": null,
            "description_width": ""
          }
        },
        "4d29cf11d5dc46e1ad9b7ace0af29b17": {
          "model_module": "@jupyter-widgets/base",
          "model_name": "LayoutModel",
          "model_module_version": "1.2.0",
          "state": {
            "_model_module": "@jupyter-widgets/base",
            "_model_module_version": "1.2.0",
            "_model_name": "LayoutModel",
            "_view_count": null,
            "_view_module": "@jupyter-widgets/base",
            "_view_module_version": "1.2.0",
            "_view_name": "LayoutView",
            "align_content": null,
            "align_items": null,
            "align_self": null,
            "border": null,
            "bottom": null,
            "display": null,
            "flex": null,
            "flex_flow": null,
            "grid_area": null,
            "grid_auto_columns": null,
            "grid_auto_flow": null,
            "grid_auto_rows": null,
            "grid_column": null,
            "grid_gap": null,
            "grid_row": null,
            "grid_template_areas": null,
            "grid_template_columns": null,
            "grid_template_rows": null,
            "height": null,
            "justify_content": null,
            "justify_items": null,
            "left": null,
            "margin": null,
            "max_height": null,
            "max_width": null,
            "min_height": null,
            "min_width": null,
            "object_fit": null,
            "object_position": null,
            "order": null,
            "overflow": null,
            "overflow_x": null,
            "overflow_y": null,
            "padding": null,
            "right": null,
            "top": null,
            "visibility": null,
            "width": null
          }
        },
        "80d7d252c89a46a4a603f40db1c9077e": {
          "model_module": "@jupyter-widgets/controls",
          "model_name": "DescriptionStyleModel",
          "model_module_version": "1.5.0",
          "state": {
            "_model_module": "@jupyter-widgets/controls",
            "_model_module_version": "1.5.0",
            "_model_name": "DescriptionStyleModel",
            "_view_count": null,
            "_view_module": "@jupyter-widgets/base",
            "_view_module_version": "1.2.0",
            "_view_name": "StyleView",
            "description_width": ""
          }
        },
        "df59050a422e4d038407af00dd7dd8e1": {
          "model_module": "@jupyter-widgets/controls",
          "model_name": "HBoxModel",
          "model_module_version": "1.5.0",
          "state": {
            "_dom_classes": [],
            "_model_module": "@jupyter-widgets/controls",
            "_model_module_version": "1.5.0",
            "_model_name": "HBoxModel",
            "_view_count": null,
            "_view_module": "@jupyter-widgets/controls",
            "_view_module_version": "1.5.0",
            "_view_name": "HBoxView",
            "box_style": "",
            "children": [
              "IPY_MODEL_6e8498b9372a4ae6bcbae1ec2d07d533",
              "IPY_MODEL_baf67830151a4dd18a224e84fe9c2d40",
              "IPY_MODEL_1f208542d9e249c699f11250a1c21a8f"
            ],
            "layout": "IPY_MODEL_3db9aacaae434af4a74e9feecb128c66"
          }
        },
        "6e8498b9372a4ae6bcbae1ec2d07d533": {
          "model_module": "@jupyter-widgets/controls",
          "model_name": "HTMLModel",
          "model_module_version": "1.5.0",
          "state": {
            "_dom_classes": [],
            "_model_module": "@jupyter-widgets/controls",
            "_model_module_version": "1.5.0",
            "_model_name": "HTMLModel",
            "_view_count": null,
            "_view_module": "@jupyter-widgets/controls",
            "_view_module_version": "1.5.0",
            "_view_name": "HTMLView",
            "description": "",
            "description_tooltip": null,
            "layout": "IPY_MODEL_fa21112d8718438887bac766cd70fbee",
            "placeholder": "​",
            "style": "IPY_MODEL_fab8a60d5fdb49f9adfb6045dca81378",
            "value": "vocab.txt: 100%"
          }
        },
        "baf67830151a4dd18a224e84fe9c2d40": {
          "model_module": "@jupyter-widgets/controls",
          "model_name": "FloatProgressModel",
          "model_module_version": "1.5.0",
          "state": {
            "_dom_classes": [],
            "_model_module": "@jupyter-widgets/controls",
            "_model_module_version": "1.5.0",
            "_model_name": "FloatProgressModel",
            "_view_count": null,
            "_view_module": "@jupyter-widgets/controls",
            "_view_module_version": "1.5.0",
            "_view_name": "ProgressView",
            "bar_style": "success",
            "description": "",
            "description_tooltip": null,
            "layout": "IPY_MODEL_0bee1d2e85e24573b4968a3d4ff47126",
            "max": 231508,
            "min": 0,
            "orientation": "horizontal",
            "style": "IPY_MODEL_cdbbf94e6022413396f949da4806bd17",
            "value": 231508
          }
        },
        "1f208542d9e249c699f11250a1c21a8f": {
          "model_module": "@jupyter-widgets/controls",
          "model_name": "HTMLModel",
          "model_module_version": "1.5.0",
          "state": {
            "_dom_classes": [],
            "_model_module": "@jupyter-widgets/controls",
            "_model_module_version": "1.5.0",
            "_model_name": "HTMLModel",
            "_view_count": null,
            "_view_module": "@jupyter-widgets/controls",
            "_view_module_version": "1.5.0",
            "_view_name": "HTMLView",
            "description": "",
            "description_tooltip": null,
            "layout": "IPY_MODEL_f437d81834804ccf8c027138408b464c",
            "placeholder": "​",
            "style": "IPY_MODEL_b7b328b26cbe461cba20b01600ed30ef",
            "value": " 232k/232k [00:00&lt;00:00, 4.83MB/s]"
          }
        },
        "3db9aacaae434af4a74e9feecb128c66": {
          "model_module": "@jupyter-widgets/base",
          "model_name": "LayoutModel",
          "model_module_version": "1.2.0",
          "state": {
            "_model_module": "@jupyter-widgets/base",
            "_model_module_version": "1.2.0",
            "_model_name": "LayoutModel",
            "_view_count": null,
            "_view_module": "@jupyter-widgets/base",
            "_view_module_version": "1.2.0",
            "_view_name": "LayoutView",
            "align_content": null,
            "align_items": null,
            "align_self": null,
            "border": null,
            "bottom": null,
            "display": null,
            "flex": null,
            "flex_flow": null,
            "grid_area": null,
            "grid_auto_columns": null,
            "grid_auto_flow": null,
            "grid_auto_rows": null,
            "grid_column": null,
            "grid_gap": null,
            "grid_row": null,
            "grid_template_areas": null,
            "grid_template_columns": null,
            "grid_template_rows": null,
            "height": null,
            "justify_content": null,
            "justify_items": null,
            "left": null,
            "margin": null,
            "max_height": null,
            "max_width": null,
            "min_height": null,
            "min_width": null,
            "object_fit": null,
            "object_position": null,
            "order": null,
            "overflow": null,
            "overflow_x": null,
            "overflow_y": null,
            "padding": null,
            "right": null,
            "top": null,
            "visibility": null,
            "width": null
          }
        },
        "fa21112d8718438887bac766cd70fbee": {
          "model_module": "@jupyter-widgets/base",
          "model_name": "LayoutModel",
          "model_module_version": "1.2.0",
          "state": {
            "_model_module": "@jupyter-widgets/base",
            "_model_module_version": "1.2.0",
            "_model_name": "LayoutModel",
            "_view_count": null,
            "_view_module": "@jupyter-widgets/base",
            "_view_module_version": "1.2.0",
            "_view_name": "LayoutView",
            "align_content": null,
            "align_items": null,
            "align_self": null,
            "border": null,
            "bottom": null,
            "display": null,
            "flex": null,
            "flex_flow": null,
            "grid_area": null,
            "grid_auto_columns": null,
            "grid_auto_flow": null,
            "grid_auto_rows": null,
            "grid_column": null,
            "grid_gap": null,
            "grid_row": null,
            "grid_template_areas": null,
            "grid_template_columns": null,
            "grid_template_rows": null,
            "height": null,
            "justify_content": null,
            "justify_items": null,
            "left": null,
            "margin": null,
            "max_height": null,
            "max_width": null,
            "min_height": null,
            "min_width": null,
            "object_fit": null,
            "object_position": null,
            "order": null,
            "overflow": null,
            "overflow_x": null,
            "overflow_y": null,
            "padding": null,
            "right": null,
            "top": null,
            "visibility": null,
            "width": null
          }
        },
        "fab8a60d5fdb49f9adfb6045dca81378": {
          "model_module": "@jupyter-widgets/controls",
          "model_name": "DescriptionStyleModel",
          "model_module_version": "1.5.0",
          "state": {
            "_model_module": "@jupyter-widgets/controls",
            "_model_module_version": "1.5.0",
            "_model_name": "DescriptionStyleModel",
            "_view_count": null,
            "_view_module": "@jupyter-widgets/base",
            "_view_module_version": "1.2.0",
            "_view_name": "StyleView",
            "description_width": ""
          }
        },
        "0bee1d2e85e24573b4968a3d4ff47126": {
          "model_module": "@jupyter-widgets/base",
          "model_name": "LayoutModel",
          "model_module_version": "1.2.0",
          "state": {
            "_model_module": "@jupyter-widgets/base",
            "_model_module_version": "1.2.0",
            "_model_name": "LayoutModel",
            "_view_count": null,
            "_view_module": "@jupyter-widgets/base",
            "_view_module_version": "1.2.0",
            "_view_name": "LayoutView",
            "align_content": null,
            "align_items": null,
            "align_self": null,
            "border": null,
            "bottom": null,
            "display": null,
            "flex": null,
            "flex_flow": null,
            "grid_area": null,
            "grid_auto_columns": null,
            "grid_auto_flow": null,
            "grid_auto_rows": null,
            "grid_column": null,
            "grid_gap": null,
            "grid_row": null,
            "grid_template_areas": null,
            "grid_template_columns": null,
            "grid_template_rows": null,
            "height": null,
            "justify_content": null,
            "justify_items": null,
            "left": null,
            "margin": null,
            "max_height": null,
            "max_width": null,
            "min_height": null,
            "min_width": null,
            "object_fit": null,
            "object_position": null,
            "order": null,
            "overflow": null,
            "overflow_x": null,
            "overflow_y": null,
            "padding": null,
            "right": null,
            "top": null,
            "visibility": null,
            "width": null
          }
        },
        "cdbbf94e6022413396f949da4806bd17": {
          "model_module": "@jupyter-widgets/controls",
          "model_name": "ProgressStyleModel",
          "model_module_version": "1.5.0",
          "state": {
            "_model_module": "@jupyter-widgets/controls",
            "_model_module_version": "1.5.0",
            "_model_name": "ProgressStyleModel",
            "_view_count": null,
            "_view_module": "@jupyter-widgets/base",
            "_view_module_version": "1.2.0",
            "_view_name": "StyleView",
            "bar_color": null,
            "description_width": ""
          }
        },
        "f437d81834804ccf8c027138408b464c": {
          "model_module": "@jupyter-widgets/base",
          "model_name": "LayoutModel",
          "model_module_version": "1.2.0",
          "state": {
            "_model_module": "@jupyter-widgets/base",
            "_model_module_version": "1.2.0",
            "_model_name": "LayoutModel",
            "_view_count": null,
            "_view_module": "@jupyter-widgets/base",
            "_view_module_version": "1.2.0",
            "_view_name": "LayoutView",
            "align_content": null,
            "align_items": null,
            "align_self": null,
            "border": null,
            "bottom": null,
            "display": null,
            "flex": null,
            "flex_flow": null,
            "grid_area": null,
            "grid_auto_columns": null,
            "grid_auto_flow": null,
            "grid_auto_rows": null,
            "grid_column": null,
            "grid_gap": null,
            "grid_row": null,
            "grid_template_areas": null,
            "grid_template_columns": null,
            "grid_template_rows": null,
            "height": null,
            "justify_content": null,
            "justify_items": null,
            "left": null,
            "margin": null,
            "max_height": null,
            "max_width": null,
            "min_height": null,
            "min_width": null,
            "object_fit": null,
            "object_position": null,
            "order": null,
            "overflow": null,
            "overflow_x": null,
            "overflow_y": null,
            "padding": null,
            "right": null,
            "top": null,
            "visibility": null,
            "width": null
          }
        },
        "b7b328b26cbe461cba20b01600ed30ef": {
          "model_module": "@jupyter-widgets/controls",
          "model_name": "DescriptionStyleModel",
          "model_module_version": "1.5.0",
          "state": {
            "_model_module": "@jupyter-widgets/controls",
            "_model_module_version": "1.5.0",
            "_model_name": "DescriptionStyleModel",
            "_view_count": null,
            "_view_module": "@jupyter-widgets/base",
            "_view_module_version": "1.2.0",
            "_view_name": "StyleView",
            "description_width": ""
          }
        },
        "6e564653afc647d5a3ed92b33663b720": {
          "model_module": "@jupyter-widgets/controls",
          "model_name": "HBoxModel",
          "model_module_version": "1.5.0",
          "state": {
            "_dom_classes": [],
            "_model_module": "@jupyter-widgets/controls",
            "_model_module_version": "1.5.0",
            "_model_name": "HBoxModel",
            "_view_count": null,
            "_view_module": "@jupyter-widgets/controls",
            "_view_module_version": "1.5.0",
            "_view_name": "HBoxView",
            "box_style": "",
            "children": [
              "IPY_MODEL_1374892c8fc740f685aec18e22ebb43f",
              "IPY_MODEL_1e0554cc2eb0434a9bf60ab3a1d49c8f",
              "IPY_MODEL_4b988770e23f4dcba4b33e26d9368198"
            ],
            "layout": "IPY_MODEL_f93fc5bdab2346f99a05c59ffc8573e2"
          }
        },
        "1374892c8fc740f685aec18e22ebb43f": {
          "model_module": "@jupyter-widgets/controls",
          "model_name": "HTMLModel",
          "model_module_version": "1.5.0",
          "state": {
            "_dom_classes": [],
            "_model_module": "@jupyter-widgets/controls",
            "_model_module_version": "1.5.0",
            "_model_name": "HTMLModel",
            "_view_count": null,
            "_view_module": "@jupyter-widgets/controls",
            "_view_module_version": "1.5.0",
            "_view_name": "HTMLView",
            "description": "",
            "description_tooltip": null,
            "layout": "IPY_MODEL_f3e2529f6bdb454eb4cf6ece931a843a",
            "placeholder": "​",
            "style": "IPY_MODEL_16253f79830c43758a02630232ebe6bc",
            "value": "tokenizer.json: 100%"
          }
        },
        "1e0554cc2eb0434a9bf60ab3a1d49c8f": {
          "model_module": "@jupyter-widgets/controls",
          "model_name": "FloatProgressModel",
          "model_module_version": "1.5.0",
          "state": {
            "_dom_classes": [],
            "_model_module": "@jupyter-widgets/controls",
            "_model_module_version": "1.5.0",
            "_model_name": "FloatProgressModel",
            "_view_count": null,
            "_view_module": "@jupyter-widgets/controls",
            "_view_module_version": "1.5.0",
            "_view_name": "ProgressView",
            "bar_style": "success",
            "description": "",
            "description_tooltip": null,
            "layout": "IPY_MODEL_7a1998dd4a2d4f938df4fd428d291410",
            "max": 466062,
            "min": 0,
            "orientation": "horizontal",
            "style": "IPY_MODEL_6a1a63802a5044a99f536db5eb1fd245",
            "value": 466062
          }
        },
        "4b988770e23f4dcba4b33e26d9368198": {
          "model_module": "@jupyter-widgets/controls",
          "model_name": "HTMLModel",
          "model_module_version": "1.5.0",
          "state": {
            "_dom_classes": [],
            "_model_module": "@jupyter-widgets/controls",
            "_model_module_version": "1.5.0",
            "_model_name": "HTMLModel",
            "_view_count": null,
            "_view_module": "@jupyter-widgets/controls",
            "_view_module_version": "1.5.0",
            "_view_name": "HTMLView",
            "description": "",
            "description_tooltip": null,
            "layout": "IPY_MODEL_2eeb204040bf4b8ba98ea06efb4fe874",
            "placeholder": "​",
            "style": "IPY_MODEL_84baca5813e14859b84b3e7effe6a23a",
            "value": " 466k/466k [00:00&lt;00:00, 6.81MB/s]"
          }
        },
        "f93fc5bdab2346f99a05c59ffc8573e2": {
          "model_module": "@jupyter-widgets/base",
          "model_name": "LayoutModel",
          "model_module_version": "1.2.0",
          "state": {
            "_model_module": "@jupyter-widgets/base",
            "_model_module_version": "1.2.0",
            "_model_name": "LayoutModel",
            "_view_count": null,
            "_view_module": "@jupyter-widgets/base",
            "_view_module_version": "1.2.0",
            "_view_name": "LayoutView",
            "align_content": null,
            "align_items": null,
            "align_self": null,
            "border": null,
            "bottom": null,
            "display": null,
            "flex": null,
            "flex_flow": null,
            "grid_area": null,
            "grid_auto_columns": null,
            "grid_auto_flow": null,
            "grid_auto_rows": null,
            "grid_column": null,
            "grid_gap": null,
            "grid_row": null,
            "grid_template_areas": null,
            "grid_template_columns": null,
            "grid_template_rows": null,
            "height": null,
            "justify_content": null,
            "justify_items": null,
            "left": null,
            "margin": null,
            "max_height": null,
            "max_width": null,
            "min_height": null,
            "min_width": null,
            "object_fit": null,
            "object_position": null,
            "order": null,
            "overflow": null,
            "overflow_x": null,
            "overflow_y": null,
            "padding": null,
            "right": null,
            "top": null,
            "visibility": null,
            "width": null
          }
        },
        "f3e2529f6bdb454eb4cf6ece931a843a": {
          "model_module": "@jupyter-widgets/base",
          "model_name": "LayoutModel",
          "model_module_version": "1.2.0",
          "state": {
            "_model_module": "@jupyter-widgets/base",
            "_model_module_version": "1.2.0",
            "_model_name": "LayoutModel",
            "_view_count": null,
            "_view_module": "@jupyter-widgets/base",
            "_view_module_version": "1.2.0",
            "_view_name": "LayoutView",
            "align_content": null,
            "align_items": null,
            "align_self": null,
            "border": null,
            "bottom": null,
            "display": null,
            "flex": null,
            "flex_flow": null,
            "grid_area": null,
            "grid_auto_columns": null,
            "grid_auto_flow": null,
            "grid_auto_rows": null,
            "grid_column": null,
            "grid_gap": null,
            "grid_row": null,
            "grid_template_areas": null,
            "grid_template_columns": null,
            "grid_template_rows": null,
            "height": null,
            "justify_content": null,
            "justify_items": null,
            "left": null,
            "margin": null,
            "max_height": null,
            "max_width": null,
            "min_height": null,
            "min_width": null,
            "object_fit": null,
            "object_position": null,
            "order": null,
            "overflow": null,
            "overflow_x": null,
            "overflow_y": null,
            "padding": null,
            "right": null,
            "top": null,
            "visibility": null,
            "width": null
          }
        },
        "16253f79830c43758a02630232ebe6bc": {
          "model_module": "@jupyter-widgets/controls",
          "model_name": "DescriptionStyleModel",
          "model_module_version": "1.5.0",
          "state": {
            "_model_module": "@jupyter-widgets/controls",
            "_model_module_version": "1.5.0",
            "_model_name": "DescriptionStyleModel",
            "_view_count": null,
            "_view_module": "@jupyter-widgets/base",
            "_view_module_version": "1.2.0",
            "_view_name": "StyleView",
            "description_width": ""
          }
        },
        "7a1998dd4a2d4f938df4fd428d291410": {
          "model_module": "@jupyter-widgets/base",
          "model_name": "LayoutModel",
          "model_module_version": "1.2.0",
          "state": {
            "_model_module": "@jupyter-widgets/base",
            "_model_module_version": "1.2.0",
            "_model_name": "LayoutModel",
            "_view_count": null,
            "_view_module": "@jupyter-widgets/base",
            "_view_module_version": "1.2.0",
            "_view_name": "LayoutView",
            "align_content": null,
            "align_items": null,
            "align_self": null,
            "border": null,
            "bottom": null,
            "display": null,
            "flex": null,
            "flex_flow": null,
            "grid_area": null,
            "grid_auto_columns": null,
            "grid_auto_flow": null,
            "grid_auto_rows": null,
            "grid_column": null,
            "grid_gap": null,
            "grid_row": null,
            "grid_template_areas": null,
            "grid_template_columns": null,
            "grid_template_rows": null,
            "height": null,
            "justify_content": null,
            "justify_items": null,
            "left": null,
            "margin": null,
            "max_height": null,
            "max_width": null,
            "min_height": null,
            "min_width": null,
            "object_fit": null,
            "object_position": null,
            "order": null,
            "overflow": null,
            "overflow_x": null,
            "overflow_y": null,
            "padding": null,
            "right": null,
            "top": null,
            "visibility": null,
            "width": null
          }
        },
        "6a1a63802a5044a99f536db5eb1fd245": {
          "model_module": "@jupyter-widgets/controls",
          "model_name": "ProgressStyleModel",
          "model_module_version": "1.5.0",
          "state": {
            "_model_module": "@jupyter-widgets/controls",
            "_model_module_version": "1.5.0",
            "_model_name": "ProgressStyleModel",
            "_view_count": null,
            "_view_module": "@jupyter-widgets/base",
            "_view_module_version": "1.2.0",
            "_view_name": "StyleView",
            "bar_color": null,
            "description_width": ""
          }
        },
        "2eeb204040bf4b8ba98ea06efb4fe874": {
          "model_module": "@jupyter-widgets/base",
          "model_name": "LayoutModel",
          "model_module_version": "1.2.0",
          "state": {
            "_model_module": "@jupyter-widgets/base",
            "_model_module_version": "1.2.0",
            "_model_name": "LayoutModel",
            "_view_count": null,
            "_view_module": "@jupyter-widgets/base",
            "_view_module_version": "1.2.0",
            "_view_name": "LayoutView",
            "align_content": null,
            "align_items": null,
            "align_self": null,
            "border": null,
            "bottom": null,
            "display": null,
            "flex": null,
            "flex_flow": null,
            "grid_area": null,
            "grid_auto_columns": null,
            "grid_auto_flow": null,
            "grid_auto_rows": null,
            "grid_column": null,
            "grid_gap": null,
            "grid_row": null,
            "grid_template_areas": null,
            "grid_template_columns": null,
            "grid_template_rows": null,
            "height": null,
            "justify_content": null,
            "justify_items": null,
            "left": null,
            "margin": null,
            "max_height": null,
            "max_width": null,
            "min_height": null,
            "min_width": null,
            "object_fit": null,
            "object_position": null,
            "order": null,
            "overflow": null,
            "overflow_x": null,
            "overflow_y": null,
            "padding": null,
            "right": null,
            "top": null,
            "visibility": null,
            "width": null
          }
        },
        "84baca5813e14859b84b3e7effe6a23a": {
          "model_module": "@jupyter-widgets/controls",
          "model_name": "DescriptionStyleModel",
          "model_module_version": "1.5.0",
          "state": {
            "_model_module": "@jupyter-widgets/controls",
            "_model_module_version": "1.5.0",
            "_model_name": "DescriptionStyleModel",
            "_view_count": null,
            "_view_module": "@jupyter-widgets/base",
            "_view_module_version": "1.2.0",
            "_view_name": "StyleView",
            "description_width": ""
          }
        },
        "065763e9ecc944318ab56f2cf55668bd": {
          "model_module": "@jupyter-widgets/controls",
          "model_name": "HBoxModel",
          "model_module_version": "1.5.0",
          "state": {
            "_dom_classes": [],
            "_model_module": "@jupyter-widgets/controls",
            "_model_module_version": "1.5.0",
            "_model_name": "HBoxModel",
            "_view_count": null,
            "_view_module": "@jupyter-widgets/controls",
            "_view_module_version": "1.5.0",
            "_view_name": "HBoxView",
            "box_style": "",
            "children": [
              "IPY_MODEL_f51a813f10c249ad9ea7298a905e6278",
              "IPY_MODEL_646df33fcb154438ae387c14c6a059fe",
              "IPY_MODEL_314d1ce75d2d474691a48c5e5989a3e6"
            ],
            "layout": "IPY_MODEL_82bf88e9be554e6f902355ce5eab3ffd"
          }
        },
        "f51a813f10c249ad9ea7298a905e6278": {
          "model_module": "@jupyter-widgets/controls",
          "model_name": "HTMLModel",
          "model_module_version": "1.5.0",
          "state": {
            "_dom_classes": [],
            "_model_module": "@jupyter-widgets/controls",
            "_model_module_version": "1.5.0",
            "_model_name": "HTMLModel",
            "_view_count": null,
            "_view_module": "@jupyter-widgets/controls",
            "_view_module_version": "1.5.0",
            "_view_name": "HTMLView",
            "description": "",
            "description_tooltip": null,
            "layout": "IPY_MODEL_c1d98f0240184681b50bbfc19996afc9",
            "placeholder": "​",
            "style": "IPY_MODEL_a37eb8ac8c664c3abb5282d43db537bf",
            "value": "config.json: 100%"
          }
        },
        "646df33fcb154438ae387c14c6a059fe": {
          "model_module": "@jupyter-widgets/controls",
          "model_name": "FloatProgressModel",
          "model_module_version": "1.5.0",
          "state": {
            "_dom_classes": [],
            "_model_module": "@jupyter-widgets/controls",
            "_model_module_version": "1.5.0",
            "_model_name": "FloatProgressModel",
            "_view_count": null,
            "_view_module": "@jupyter-widgets/controls",
            "_view_module_version": "1.5.0",
            "_view_name": "ProgressView",
            "bar_style": "success",
            "description": "",
            "description_tooltip": null,
            "layout": "IPY_MODEL_01c760dfaa434977a6d30cd886d1a031",
            "max": 570,
            "min": 0,
            "orientation": "horizontal",
            "style": "IPY_MODEL_23aa9e22e0364e0e84262be4f4a82630",
            "value": 570
          }
        },
        "314d1ce75d2d474691a48c5e5989a3e6": {
          "model_module": "@jupyter-widgets/controls",
          "model_name": "HTMLModel",
          "model_module_version": "1.5.0",
          "state": {
            "_dom_classes": [],
            "_model_module": "@jupyter-widgets/controls",
            "_model_module_version": "1.5.0",
            "_model_name": "HTMLModel",
            "_view_count": null,
            "_view_module": "@jupyter-widgets/controls",
            "_view_module_version": "1.5.0",
            "_view_name": "HTMLView",
            "description": "",
            "description_tooltip": null,
            "layout": "IPY_MODEL_2bedb56c59eb434fae49df5271452543",
            "placeholder": "​",
            "style": "IPY_MODEL_dc68b92d823d4a0db61fd86a190393fa",
            "value": " 570/570 [00:00&lt;00:00, 38.3kB/s]"
          }
        },
        "82bf88e9be554e6f902355ce5eab3ffd": {
          "model_module": "@jupyter-widgets/base",
          "model_name": "LayoutModel",
          "model_module_version": "1.2.0",
          "state": {
            "_model_module": "@jupyter-widgets/base",
            "_model_module_version": "1.2.0",
            "_model_name": "LayoutModel",
            "_view_count": null,
            "_view_module": "@jupyter-widgets/base",
            "_view_module_version": "1.2.0",
            "_view_name": "LayoutView",
            "align_content": null,
            "align_items": null,
            "align_self": null,
            "border": null,
            "bottom": null,
            "display": null,
            "flex": null,
            "flex_flow": null,
            "grid_area": null,
            "grid_auto_columns": null,
            "grid_auto_flow": null,
            "grid_auto_rows": null,
            "grid_column": null,
            "grid_gap": null,
            "grid_row": null,
            "grid_template_areas": null,
            "grid_template_columns": null,
            "grid_template_rows": null,
            "height": null,
            "justify_content": null,
            "justify_items": null,
            "left": null,
            "margin": null,
            "max_height": null,
            "max_width": null,
            "min_height": null,
            "min_width": null,
            "object_fit": null,
            "object_position": null,
            "order": null,
            "overflow": null,
            "overflow_x": null,
            "overflow_y": null,
            "padding": null,
            "right": null,
            "top": null,
            "visibility": null,
            "width": null
          }
        },
        "c1d98f0240184681b50bbfc19996afc9": {
          "model_module": "@jupyter-widgets/base",
          "model_name": "LayoutModel",
          "model_module_version": "1.2.0",
          "state": {
            "_model_module": "@jupyter-widgets/base",
            "_model_module_version": "1.2.0",
            "_model_name": "LayoutModel",
            "_view_count": null,
            "_view_module": "@jupyter-widgets/base",
            "_view_module_version": "1.2.0",
            "_view_name": "LayoutView",
            "align_content": null,
            "align_items": null,
            "align_self": null,
            "border": null,
            "bottom": null,
            "display": null,
            "flex": null,
            "flex_flow": null,
            "grid_area": null,
            "grid_auto_columns": null,
            "grid_auto_flow": null,
            "grid_auto_rows": null,
            "grid_column": null,
            "grid_gap": null,
            "grid_row": null,
            "grid_template_areas": null,
            "grid_template_columns": null,
            "grid_template_rows": null,
            "height": null,
            "justify_content": null,
            "justify_items": null,
            "left": null,
            "margin": null,
            "max_height": null,
            "max_width": null,
            "min_height": null,
            "min_width": null,
            "object_fit": null,
            "object_position": null,
            "order": null,
            "overflow": null,
            "overflow_x": null,
            "overflow_y": null,
            "padding": null,
            "right": null,
            "top": null,
            "visibility": null,
            "width": null
          }
        },
        "a37eb8ac8c664c3abb5282d43db537bf": {
          "model_module": "@jupyter-widgets/controls",
          "model_name": "DescriptionStyleModel",
          "model_module_version": "1.5.0",
          "state": {
            "_model_module": "@jupyter-widgets/controls",
            "_model_module_version": "1.5.0",
            "_model_name": "DescriptionStyleModel",
            "_view_count": null,
            "_view_module": "@jupyter-widgets/base",
            "_view_module_version": "1.2.0",
            "_view_name": "StyleView",
            "description_width": ""
          }
        },
        "01c760dfaa434977a6d30cd886d1a031": {
          "model_module": "@jupyter-widgets/base",
          "model_name": "LayoutModel",
          "model_module_version": "1.2.0",
          "state": {
            "_model_module": "@jupyter-widgets/base",
            "_model_module_version": "1.2.0",
            "_model_name": "LayoutModel",
            "_view_count": null,
            "_view_module": "@jupyter-widgets/base",
            "_view_module_version": "1.2.0",
            "_view_name": "LayoutView",
            "align_content": null,
            "align_items": null,
            "align_self": null,
            "border": null,
            "bottom": null,
            "display": null,
            "flex": null,
            "flex_flow": null,
            "grid_area": null,
            "grid_auto_columns": null,
            "grid_auto_flow": null,
            "grid_auto_rows": null,
            "grid_column": null,
            "grid_gap": null,
            "grid_row": null,
            "grid_template_areas": null,
            "grid_template_columns": null,
            "grid_template_rows": null,
            "height": null,
            "justify_content": null,
            "justify_items": null,
            "left": null,
            "margin": null,
            "max_height": null,
            "max_width": null,
            "min_height": null,
            "min_width": null,
            "object_fit": null,
            "object_position": null,
            "order": null,
            "overflow": null,
            "overflow_x": null,
            "overflow_y": null,
            "padding": null,
            "right": null,
            "top": null,
            "visibility": null,
            "width": null
          }
        },
        "23aa9e22e0364e0e84262be4f4a82630": {
          "model_module": "@jupyter-widgets/controls",
          "model_name": "ProgressStyleModel",
          "model_module_version": "1.5.0",
          "state": {
            "_model_module": "@jupyter-widgets/controls",
            "_model_module_version": "1.5.0",
            "_model_name": "ProgressStyleModel",
            "_view_count": null,
            "_view_module": "@jupyter-widgets/base",
            "_view_module_version": "1.2.0",
            "_view_name": "StyleView",
            "bar_color": null,
            "description_width": ""
          }
        },
        "2bedb56c59eb434fae49df5271452543": {
          "model_module": "@jupyter-widgets/base",
          "model_name": "LayoutModel",
          "model_module_version": "1.2.0",
          "state": {
            "_model_module": "@jupyter-widgets/base",
            "_model_module_version": "1.2.0",
            "_model_name": "LayoutModel",
            "_view_count": null,
            "_view_module": "@jupyter-widgets/base",
            "_view_module_version": "1.2.0",
            "_view_name": "LayoutView",
            "align_content": null,
            "align_items": null,
            "align_self": null,
            "border": null,
            "bottom": null,
            "display": null,
            "flex": null,
            "flex_flow": null,
            "grid_area": null,
            "grid_auto_columns": null,
            "grid_auto_flow": null,
            "grid_auto_rows": null,
            "grid_column": null,
            "grid_gap": null,
            "grid_row": null,
            "grid_template_areas": null,
            "grid_template_columns": null,
            "grid_template_rows": null,
            "height": null,
            "justify_content": null,
            "justify_items": null,
            "left": null,
            "margin": null,
            "max_height": null,
            "max_width": null,
            "min_height": null,
            "min_width": null,
            "object_fit": null,
            "object_position": null,
            "order": null,
            "overflow": null,
            "overflow_x": null,
            "overflow_y": null,
            "padding": null,
            "right": null,
            "top": null,
            "visibility": null,
            "width": null
          }
        },
        "dc68b92d823d4a0db61fd86a190393fa": {
          "model_module": "@jupyter-widgets/controls",
          "model_name": "DescriptionStyleModel",
          "model_module_version": "1.5.0",
          "state": {
            "_model_module": "@jupyter-widgets/controls",
            "_model_module_version": "1.5.0",
            "_model_name": "DescriptionStyleModel",
            "_view_count": null,
            "_view_module": "@jupyter-widgets/base",
            "_view_module_version": "1.2.0",
            "_view_name": "StyleView",
            "description_width": ""
          }
        },
        "f15ef01ba3ca4b258e707df2c47c39d0": {
          "model_module": "@jupyter-widgets/controls",
          "model_name": "HBoxModel",
          "model_module_version": "1.5.0",
          "state": {
            "_dom_classes": [],
            "_model_module": "@jupyter-widgets/controls",
            "_model_module_version": "1.5.0",
            "_model_name": "HBoxModel",
            "_view_count": null,
            "_view_module": "@jupyter-widgets/controls",
            "_view_module_version": "1.5.0",
            "_view_name": "HBoxView",
            "box_style": "",
            "children": [
              "IPY_MODEL_c7fb171aceb7499390f7908cdd1cfde5",
              "IPY_MODEL_e6d0ee51a2764f3bbbe9ed1b252c2c6f",
              "IPY_MODEL_6672983901fe4cf1959f7b281e7b5314"
            ],
            "layout": "IPY_MODEL_66ee58b6d79740a6bda113ec9f40d977"
          }
        },
        "c7fb171aceb7499390f7908cdd1cfde5": {
          "model_module": "@jupyter-widgets/controls",
          "model_name": "HTMLModel",
          "model_module_version": "1.5.0",
          "state": {
            "_dom_classes": [],
            "_model_module": "@jupyter-widgets/controls",
            "_model_module_version": "1.5.0",
            "_model_name": "HTMLModel",
            "_view_count": null,
            "_view_module": "@jupyter-widgets/controls",
            "_view_module_version": "1.5.0",
            "_view_name": "HTMLView",
            "description": "",
            "description_tooltip": null,
            "layout": "IPY_MODEL_7af25190ab934a0fa555a107a357f64a",
            "placeholder": "​",
            "style": "IPY_MODEL_a3590095607542bba1b5b4e93df80b87",
            "value": "model.safetensors: 100%"
          }
        },
        "e6d0ee51a2764f3bbbe9ed1b252c2c6f": {
          "model_module": "@jupyter-widgets/controls",
          "model_name": "FloatProgressModel",
          "model_module_version": "1.5.0",
          "state": {
            "_dom_classes": [],
            "_model_module": "@jupyter-widgets/controls",
            "_model_module_version": "1.5.0",
            "_model_name": "FloatProgressModel",
            "_view_count": null,
            "_view_module": "@jupyter-widgets/controls",
            "_view_module_version": "1.5.0",
            "_view_name": "ProgressView",
            "bar_style": "success",
            "description": "",
            "description_tooltip": null,
            "layout": "IPY_MODEL_f0df6d54f2744fe687c728ee88f9d24e",
            "max": 440449768,
            "min": 0,
            "orientation": "horizontal",
            "style": "IPY_MODEL_9e5d58e5c68a429985e2665fb825f7f5",
            "value": 440449768
          }
        },
        "6672983901fe4cf1959f7b281e7b5314": {
          "model_module": "@jupyter-widgets/controls",
          "model_name": "HTMLModel",
          "model_module_version": "1.5.0",
          "state": {
            "_dom_classes": [],
            "_model_module": "@jupyter-widgets/controls",
            "_model_module_version": "1.5.0",
            "_model_name": "HTMLModel",
            "_view_count": null,
            "_view_module": "@jupyter-widgets/controls",
            "_view_module_version": "1.5.0",
            "_view_name": "HTMLView",
            "description": "",
            "description_tooltip": null,
            "layout": "IPY_MODEL_f385f2596a3b45818339daec4b52ad53",
            "placeholder": "​",
            "style": "IPY_MODEL_4d52893a3302434ab0a50801992ece3e",
            "value": " 440M/440M [00:03&lt;00:00, 156MB/s]"
          }
        },
        "66ee58b6d79740a6bda113ec9f40d977": {
          "model_module": "@jupyter-widgets/base",
          "model_name": "LayoutModel",
          "model_module_version": "1.2.0",
          "state": {
            "_model_module": "@jupyter-widgets/base",
            "_model_module_version": "1.2.0",
            "_model_name": "LayoutModel",
            "_view_count": null,
            "_view_module": "@jupyter-widgets/base",
            "_view_module_version": "1.2.0",
            "_view_name": "LayoutView",
            "align_content": null,
            "align_items": null,
            "align_self": null,
            "border": null,
            "bottom": null,
            "display": null,
            "flex": null,
            "flex_flow": null,
            "grid_area": null,
            "grid_auto_columns": null,
            "grid_auto_flow": null,
            "grid_auto_rows": null,
            "grid_column": null,
            "grid_gap": null,
            "grid_row": null,
            "grid_template_areas": null,
            "grid_template_columns": null,
            "grid_template_rows": null,
            "height": null,
            "justify_content": null,
            "justify_items": null,
            "left": null,
            "margin": null,
            "max_height": null,
            "max_width": null,
            "min_height": null,
            "min_width": null,
            "object_fit": null,
            "object_position": null,
            "order": null,
            "overflow": null,
            "overflow_x": null,
            "overflow_y": null,
            "padding": null,
            "right": null,
            "top": null,
            "visibility": null,
            "width": null
          }
        },
        "7af25190ab934a0fa555a107a357f64a": {
          "model_module": "@jupyter-widgets/base",
          "model_name": "LayoutModel",
          "model_module_version": "1.2.0",
          "state": {
            "_model_module": "@jupyter-widgets/base",
            "_model_module_version": "1.2.0",
            "_model_name": "LayoutModel",
            "_view_count": null,
            "_view_module": "@jupyter-widgets/base",
            "_view_module_version": "1.2.0",
            "_view_name": "LayoutView",
            "align_content": null,
            "align_items": null,
            "align_self": null,
            "border": null,
            "bottom": null,
            "display": null,
            "flex": null,
            "flex_flow": null,
            "grid_area": null,
            "grid_auto_columns": null,
            "grid_auto_flow": null,
            "grid_auto_rows": null,
            "grid_column": null,
            "grid_gap": null,
            "grid_row": null,
            "grid_template_areas": null,
            "grid_template_columns": null,
            "grid_template_rows": null,
            "height": null,
            "justify_content": null,
            "justify_items": null,
            "left": null,
            "margin": null,
            "max_height": null,
            "max_width": null,
            "min_height": null,
            "min_width": null,
            "object_fit": null,
            "object_position": null,
            "order": null,
            "overflow": null,
            "overflow_x": null,
            "overflow_y": null,
            "padding": null,
            "right": null,
            "top": null,
            "visibility": null,
            "width": null
          }
        },
        "a3590095607542bba1b5b4e93df80b87": {
          "model_module": "@jupyter-widgets/controls",
          "model_name": "DescriptionStyleModel",
          "model_module_version": "1.5.0",
          "state": {
            "_model_module": "@jupyter-widgets/controls",
            "_model_module_version": "1.5.0",
            "_model_name": "DescriptionStyleModel",
            "_view_count": null,
            "_view_module": "@jupyter-widgets/base",
            "_view_module_version": "1.2.0",
            "_view_name": "StyleView",
            "description_width": ""
          }
        },
        "f0df6d54f2744fe687c728ee88f9d24e": {
          "model_module": "@jupyter-widgets/base",
          "model_name": "LayoutModel",
          "model_module_version": "1.2.0",
          "state": {
            "_model_module": "@jupyter-widgets/base",
            "_model_module_version": "1.2.0",
            "_model_name": "LayoutModel",
            "_view_count": null,
            "_view_module": "@jupyter-widgets/base",
            "_view_module_version": "1.2.0",
            "_view_name": "LayoutView",
            "align_content": null,
            "align_items": null,
            "align_self": null,
            "border": null,
            "bottom": null,
            "display": null,
            "flex": null,
            "flex_flow": null,
            "grid_area": null,
            "grid_auto_columns": null,
            "grid_auto_flow": null,
            "grid_auto_rows": null,
            "grid_column": null,
            "grid_gap": null,
            "grid_row": null,
            "grid_template_areas": null,
            "grid_template_columns": null,
            "grid_template_rows": null,
            "height": null,
            "justify_content": null,
            "justify_items": null,
            "left": null,
            "margin": null,
            "max_height": null,
            "max_width": null,
            "min_height": null,
            "min_width": null,
            "object_fit": null,
            "object_position": null,
            "order": null,
            "overflow": null,
            "overflow_x": null,
            "overflow_y": null,
            "padding": null,
            "right": null,
            "top": null,
            "visibility": null,
            "width": null
          }
        },
        "9e5d58e5c68a429985e2665fb825f7f5": {
          "model_module": "@jupyter-widgets/controls",
          "model_name": "ProgressStyleModel",
          "model_module_version": "1.5.0",
          "state": {
            "_model_module": "@jupyter-widgets/controls",
            "_model_module_version": "1.5.0",
            "_model_name": "ProgressStyleModel",
            "_view_count": null,
            "_view_module": "@jupyter-widgets/base",
            "_view_module_version": "1.2.0",
            "_view_name": "StyleView",
            "bar_color": null,
            "description_width": ""
          }
        },
        "f385f2596a3b45818339daec4b52ad53": {
          "model_module": "@jupyter-widgets/base",
          "model_name": "LayoutModel",
          "model_module_version": "1.2.0",
          "state": {
            "_model_module": "@jupyter-widgets/base",
            "_model_module_version": "1.2.0",
            "_model_name": "LayoutModel",
            "_view_count": null,
            "_view_module": "@jupyter-widgets/base",
            "_view_module_version": "1.2.0",
            "_view_name": "LayoutView",
            "align_content": null,
            "align_items": null,
            "align_self": null,
            "border": null,
            "bottom": null,
            "display": null,
            "flex": null,
            "flex_flow": null,
            "grid_area": null,
            "grid_auto_columns": null,
            "grid_auto_flow": null,
            "grid_auto_rows": null,
            "grid_column": null,
            "grid_gap": null,
            "grid_row": null,
            "grid_template_areas": null,
            "grid_template_columns": null,
            "grid_template_rows": null,
            "height": null,
            "justify_content": null,
            "justify_items": null,
            "left": null,
            "margin": null,
            "max_height": null,
            "max_width": null,
            "min_height": null,
            "min_width": null,
            "object_fit": null,
            "object_position": null,
            "order": null,
            "overflow": null,
            "overflow_x": null,
            "overflow_y": null,
            "padding": null,
            "right": null,
            "top": null,
            "visibility": null,
            "width": null
          }
        },
        "4d52893a3302434ab0a50801992ece3e": {
          "model_module": "@jupyter-widgets/controls",
          "model_name": "DescriptionStyleModel",
          "model_module_version": "1.5.0",
          "state": {
            "_model_module": "@jupyter-widgets/controls",
            "_model_module_version": "1.5.0",
            "_model_name": "DescriptionStyleModel",
            "_view_count": null,
            "_view_module": "@jupyter-widgets/base",
            "_view_module_version": "1.2.0",
            "_view_name": "StyleView",
            "description_width": ""
          }
        }
      }
    }
  },
  "cells": [
    {
      "cell_type": "markdown",
      "metadata": {
        "id": "view-in-github",
        "colab_type": "text"
      },
      "source": [
        "<a href=\"https://colab.research.google.com/github/anniezhang2288/python_notebooks/blob/main/BERT_Wikipedia_Comment_Document_Classification.ipynb\" target=\"_parent\"><img src=\"https://colab.research.google.com/assets/colab-badge.svg\" alt=\"Open In Colab\"/></a>"
      ]
    },
    {
      "cell_type": "markdown",
      "source": [
        "## Setup: Using Colab GPU for Training\n"
      ],
      "metadata": {
        "id": "59arOlaopykK"
      }
    },
    {
      "cell_type": "code",
      "execution_count": 2,
      "metadata": {
        "colab": {
          "base_uri": "https://localhost:8080/"
        },
        "id": "1bLYilTQkAox",
        "outputId": "74eea6ed-fa0c-48ba-db72-71ac1db7d1f6"
      },
      "outputs": [
        {
          "output_type": "stream",
          "name": "stdout",
          "text": [
            "Found GPU at: /device:GPU:0\n"
          ]
        }
      ],
      "source": [
        "import tensorflow as tf\n",
        "\n",
        "# Get the GPU device name\n",
        "device_name = tf.test.gpu_device_name()\n",
        "\n",
        "if device_name == '/device:GPU:0':\n",
        "  print('Found GPU at: {}'.format(device_name))\n",
        "else:\n",
        "  raise SystemError('GPU device not found')"
      ]
    },
    {
      "cell_type": "code",
      "source": [
        "import torch\n",
        "\n",
        "\n",
        "if torch.cuda.is_available(): # if gpu available\n",
        "\n",
        "\n",
        "  device = torch.device(\"cuda\") # tell PyTorch to use GPU\n",
        "\n",
        "  print('There are %d GPU(s) available.' % torch.cuda.device_count())\n",
        "\n",
        "  print('We will use the GPU: ', torch.cuda.get_device_name(0))\n",
        "\n",
        "else:\n",
        "\n",
        "  print('No GPU available, using CPU instead.')\n",
        "\n",
        "  device = torch.device(\"cpu\")"
      ],
      "metadata": {
        "colab": {
          "base_uri": "https://localhost:8080/"
        },
        "id": "K5SQ9BQRmyBI",
        "outputId": "b2d62ca9-35b1-4bd4-efe7-cc90fd19d1d5"
      },
      "execution_count": 3,
      "outputs": [
        {
          "output_type": "stream",
          "name": "stdout",
          "text": [
            "There are 1 GPU(s) available.\n",
            "We will use the GPU:  Tesla T4\n"
          ]
        }
      ]
    },
    {
      "cell_type": "markdown",
      "source": [
        "## Installing the Hugging Face Library"
      ],
      "metadata": {
        "id": "oX4kDmH8qFF4"
      }
    },
    {
      "cell_type": "code",
      "source": [
        "!pip install transformers"
      ],
      "metadata": {
        "colab": {
          "base_uri": "https://localhost:8080/"
        },
        "id": "0ibxinf9ptFZ",
        "outputId": "23306e3b-2c4b-496e-fd2e-3f71d9f6d867"
      },
      "execution_count": 4,
      "outputs": [
        {
          "output_type": "stream",
          "name": "stdout",
          "text": [
            "Requirement already satisfied: transformers in /usr/local/lib/python3.10/dist-packages (4.35.2)\n",
            "Requirement already satisfied: filelock in /usr/local/lib/python3.10/dist-packages (from transformers) (3.13.1)\n",
            "Requirement already satisfied: huggingface-hub<1.0,>=0.16.4 in /usr/local/lib/python3.10/dist-packages (from transformers) (0.20.1)\n",
            "Requirement already satisfied: numpy>=1.17 in /usr/local/lib/python3.10/dist-packages (from transformers) (1.23.5)\n",
            "Requirement already satisfied: packaging>=20.0 in /usr/local/lib/python3.10/dist-packages (from transformers) (23.2)\n",
            "Requirement already satisfied: pyyaml>=5.1 in /usr/local/lib/python3.10/dist-packages (from transformers) (6.0.1)\n",
            "Requirement already satisfied: regex!=2019.12.17 in /usr/local/lib/python3.10/dist-packages (from transformers) (2023.6.3)\n",
            "Requirement already satisfied: requests in /usr/local/lib/python3.10/dist-packages (from transformers) (2.31.0)\n",
            "Requirement already satisfied: tokenizers<0.19,>=0.14 in /usr/local/lib/python3.10/dist-packages (from transformers) (0.15.0)\n",
            "Requirement already satisfied: safetensors>=0.3.1 in /usr/local/lib/python3.10/dist-packages (from transformers) (0.4.1)\n",
            "Requirement already satisfied: tqdm>=4.27 in /usr/local/lib/python3.10/dist-packages (from transformers) (4.66.1)\n",
            "Requirement already satisfied: fsspec>=2023.5.0 in /usr/local/lib/python3.10/dist-packages (from huggingface-hub<1.0,>=0.16.4->transformers) (2023.6.0)\n",
            "Requirement already satisfied: typing-extensions>=3.7.4.3 in /usr/local/lib/python3.10/dist-packages (from huggingface-hub<1.0,>=0.16.4->transformers) (4.5.0)\n",
            "Requirement already satisfied: charset-normalizer<4,>=2 in /usr/local/lib/python3.10/dist-packages (from requests->transformers) (3.3.2)\n",
            "Requirement already satisfied: idna<4,>=2.5 in /usr/local/lib/python3.10/dist-packages (from requests->transformers) (3.6)\n",
            "Requirement already satisfied: urllib3<3,>=1.21.1 in /usr/local/lib/python3.10/dist-packages (from requests->transformers) (2.0.7)\n",
            "Requirement already satisfied: certifi>=2017.4.17 in /usr/local/lib/python3.10/dist-packages (from requests->transformers) (2023.11.17)\n"
          ]
        }
      ]
    },
    {
      "cell_type": "markdown",
      "source": [
        "## Loading [The Corpus of Linguistic Acceptability (CoLA)](https://nyu-mll.github.io/CoLA/) dataset\n",
        "\n",
        " CoLA is a set of sentences labeled as grammatically correct or incorrect. It was first published in May of 2018, and is one of the tests included in the \"GLUE Benchmark\" on which models like BERT are competing. [GitHub dataset repo](https://nyu-mll.github.io/CoLA/)"
      ],
      "metadata": {
        "id": "ROi76fMOqQUU"
      }
    },
    {
      "cell_type": "code",
      "source": [
        "!pip install wget # download and extract"
      ],
      "metadata": {
        "colab": {
          "base_uri": "https://localhost:8080/"
        },
        "id": "bZIgUHJpqEuB",
        "outputId": "69a080c8-50ad-4f0c-e2da-268f5550ef2c"
      },
      "execution_count": 5,
      "outputs": [
        {
          "output_type": "stream",
          "name": "stdout",
          "text": [
            "Collecting wget\n",
            "  Downloading wget-3.2.zip (10 kB)\n",
            "  Preparing metadata (setup.py) ... \u001b[?25l\u001b[?25hdone\n",
            "Building wheels for collected packages: wget\n",
            "  Building wheel for wget (setup.py) ... \u001b[?25l\u001b[?25hdone\n",
            "  Created wheel for wget: filename=wget-3.2-py3-none-any.whl size=9655 sha256=6fc458aeb07f0ab9e6cab642750e6e5030a02df087b20ef139d72cedf43cb810\n",
            "  Stored in directory: /root/.cache/pip/wheels/8b/f1/7f/5c94f0a7a505ca1c81cd1d9208ae2064675d97582078e6c769\n",
            "Successfully built wget\n",
            "Installing collected packages: wget\n",
            "Successfully installed wget-3.2\n"
          ]
        }
      ]
    },
    {
      "cell_type": "code",
      "source": [
        "import wget\n",
        "import os\n",
        "\n",
        "print('Downloading dataset...')\n",
        "\n",
        "# The URL for the dataset zip file.\n",
        "url = 'https://nyu-mll.github.io/CoLA/cola_public_1.1.zip'\n",
        "\n",
        "# Download the file (if we haven't already)\n",
        "if not os.path.exists('./cola_public_1.1.zip'):\n",
        "    wget.download(url, './cola_public_1.1.zip')"
      ],
      "metadata": {
        "colab": {
          "base_uri": "https://localhost:8080/"
        },
        "id": "WA3ZEWufqfMX",
        "outputId": "ec53ad0c-d17d-4480-e3b6-1f06c2314f63"
      },
      "execution_count": 6,
      "outputs": [
        {
          "output_type": "stream",
          "name": "stdout",
          "text": [
            "Downloading dataset...\n"
          ]
        }
      ]
    },
    {
      "cell_type": "code",
      "source": [
        "# Unzip the dataset (if we haven't already)\n",
        "if not os.path.exists('./cola_public/'):\n",
        "    !unzip cola_public_1.1.zip"
      ],
      "metadata": {
        "colab": {
          "base_uri": "https://localhost:8080/"
        },
        "id": "h9jrLsB1qqNH",
        "outputId": "3d4955a6-b903-43d7-c2c5-c77eca1dd0ba"
      },
      "execution_count": 7,
      "outputs": [
        {
          "output_type": "stream",
          "name": "stdout",
          "text": [
            "Archive:  cola_public_1.1.zip\n",
            "   creating: cola_public/\n",
            "  inflating: cola_public/README      \n",
            "   creating: cola_public/tokenized/\n",
            "  inflating: cola_public/tokenized/in_domain_dev.tsv  \n",
            "  inflating: cola_public/tokenized/in_domain_train.tsv  \n",
            "  inflating: cola_public/tokenized/out_of_domain_dev.tsv  \n",
            "   creating: cola_public/raw/\n",
            "  inflating: cola_public/raw/in_domain_dev.tsv  \n",
            "  inflating: cola_public/raw/in_domain_train.tsv  \n",
            "  inflating: cola_public/raw/out_of_domain_dev.tsv  \n"
          ]
        }
      ]
    },
    {
      "cell_type": "markdown",
      "source": [
        "## Parse\n",
        "\n",
        "Pre-trained BERT requires us to use the tokenizer provided by the model due to 1) its specific fixed vocabulary and 2) the specific BERT tokenizer handling out-of-vocabulary words. Thus, we can't use the pretokenized version of the data"
      ],
      "metadata": {
        "id": "wTB5ldKOqwCa"
      }
    },
    {
      "cell_type": "code",
      "source": [
        "import pandas as pd\n",
        "\n",
        "# Using pandas to parse \"in-domain\" training set and look at a few of its properties + data points\n",
        "\n",
        "\n",
        "# Load the dataset into a pandas dataframe\n",
        "df = pd.read_csv(\"./cola_public/raw/in_domain_train.tsv\", delimiter='\\t', header=None, names=['sentence_source', 'label', 'label_notes', 'sentence'])\n",
        "\n",
        "# Report the number of sentences\n",
        "print('Number of training sentences: {:,}\\n'.format(df.shape[0]))\n",
        "\n",
        "# Display 10 random rows from the data\n",
        "df.sample(10)"
      ],
      "metadata": {
        "colab": {
          "base_uri": "https://localhost:8080/",
          "height": 451
        },
        "id": "7qZWKfPoquXS",
        "outputId": "a9f00e00-f79a-4090-866d-d9c1352aa1ab"
      },
      "execution_count": 8,
      "outputs": [
        {
          "output_type": "stream",
          "name": "stdout",
          "text": [
            "Number of training sentences: 8,551\n",
            "\n"
          ]
        },
        {
          "output_type": "execute_result",
          "data": {
            "text/plain": [
              "     sentence_source  label label_notes  \\\n",
              "5380            b_73      1         NaN   \n",
              "5436            b_73      0           *   \n",
              "5304            b_82      1         NaN   \n",
              "6719            m_02      1         NaN   \n",
              "2880            l-93      1         NaN   \n",
              "8485            ad03      1         NaN   \n",
              "7659           sks13      1         NaN   \n",
              "2294            l-93      0           *   \n",
              "4305            ks08      1         NaN   \n",
              "7443           sks13      0           *   \n",
              "\n",
              "                                               sentence  \n",
              "5380               I did it more in jest than in anger.  \n",
              "5436                                 She's enough tall.  \n",
              "5304                       I put the book on the table.  \n",
              "6719  The cottage which Mrs Dashwood accepted was ra...  \n",
              "2880       Harriet alternated folk songs and pop songs.  \n",
              "8485  Richard's gift of the helicopter to the hospit...  \n",
              "7659                               John hopes to sleep.  \n",
              "2294                The witch turned him from a prince.  \n",
              "4305                    Stephen seems to be irritating.  \n",
              "7443                               Goes John to school?  "
            ],
            "text/html": [
              "\n",
              "  <div id=\"df-b9f0f31f-0dfa-42f1-8054-fe91629a4465\" class=\"colab-df-container\">\n",
              "    <div>\n",
              "<style scoped>\n",
              "    .dataframe tbody tr th:only-of-type {\n",
              "        vertical-align: middle;\n",
              "    }\n",
              "\n",
              "    .dataframe tbody tr th {\n",
              "        vertical-align: top;\n",
              "    }\n",
              "\n",
              "    .dataframe thead th {\n",
              "        text-align: right;\n",
              "    }\n",
              "</style>\n",
              "<table border=\"1\" class=\"dataframe\">\n",
              "  <thead>\n",
              "    <tr style=\"text-align: right;\">\n",
              "      <th></th>\n",
              "      <th>sentence_source</th>\n",
              "      <th>label</th>\n",
              "      <th>label_notes</th>\n",
              "      <th>sentence</th>\n",
              "    </tr>\n",
              "  </thead>\n",
              "  <tbody>\n",
              "    <tr>\n",
              "      <th>5380</th>\n",
              "      <td>b_73</td>\n",
              "      <td>1</td>\n",
              "      <td>NaN</td>\n",
              "      <td>I did it more in jest than in anger.</td>\n",
              "    </tr>\n",
              "    <tr>\n",
              "      <th>5436</th>\n",
              "      <td>b_73</td>\n",
              "      <td>0</td>\n",
              "      <td>*</td>\n",
              "      <td>She's enough tall.</td>\n",
              "    </tr>\n",
              "    <tr>\n",
              "      <th>5304</th>\n",
              "      <td>b_82</td>\n",
              "      <td>1</td>\n",
              "      <td>NaN</td>\n",
              "      <td>I put the book on the table.</td>\n",
              "    </tr>\n",
              "    <tr>\n",
              "      <th>6719</th>\n",
              "      <td>m_02</td>\n",
              "      <td>1</td>\n",
              "      <td>NaN</td>\n",
              "      <td>The cottage which Mrs Dashwood accepted was ra...</td>\n",
              "    </tr>\n",
              "    <tr>\n",
              "      <th>2880</th>\n",
              "      <td>l-93</td>\n",
              "      <td>1</td>\n",
              "      <td>NaN</td>\n",
              "      <td>Harriet alternated folk songs and pop songs.</td>\n",
              "    </tr>\n",
              "    <tr>\n",
              "      <th>8485</th>\n",
              "      <td>ad03</td>\n",
              "      <td>1</td>\n",
              "      <td>NaN</td>\n",
              "      <td>Richard's gift of the helicopter to the hospit...</td>\n",
              "    </tr>\n",
              "    <tr>\n",
              "      <th>7659</th>\n",
              "      <td>sks13</td>\n",
              "      <td>1</td>\n",
              "      <td>NaN</td>\n",
              "      <td>John hopes to sleep.</td>\n",
              "    </tr>\n",
              "    <tr>\n",
              "      <th>2294</th>\n",
              "      <td>l-93</td>\n",
              "      <td>0</td>\n",
              "      <td>*</td>\n",
              "      <td>The witch turned him from a prince.</td>\n",
              "    </tr>\n",
              "    <tr>\n",
              "      <th>4305</th>\n",
              "      <td>ks08</td>\n",
              "      <td>1</td>\n",
              "      <td>NaN</td>\n",
              "      <td>Stephen seems to be irritating.</td>\n",
              "    </tr>\n",
              "    <tr>\n",
              "      <th>7443</th>\n",
              "      <td>sks13</td>\n",
              "      <td>0</td>\n",
              "      <td>*</td>\n",
              "      <td>Goes John to school?</td>\n",
              "    </tr>\n",
              "  </tbody>\n",
              "</table>\n",
              "</div>\n",
              "    <div class=\"colab-df-buttons\">\n",
              "\n",
              "  <div class=\"colab-df-container\">\n",
              "    <button class=\"colab-df-convert\" onclick=\"convertToInteractive('df-b9f0f31f-0dfa-42f1-8054-fe91629a4465')\"\n",
              "            title=\"Convert this dataframe to an interactive table.\"\n",
              "            style=\"display:none;\">\n",
              "\n",
              "  <svg xmlns=\"http://www.w3.org/2000/svg\" height=\"24px\" viewBox=\"0 -960 960 960\">\n",
              "    <path d=\"M120-120v-720h720v720H120Zm60-500h600v-160H180v160Zm220 220h160v-160H400v160Zm0 220h160v-160H400v160ZM180-400h160v-160H180v160Zm440 0h160v-160H620v160ZM180-180h160v-160H180v160Zm440 0h160v-160H620v160Z\"/>\n",
              "  </svg>\n",
              "    </button>\n",
              "\n",
              "  <style>\n",
              "    .colab-df-container {\n",
              "      display:flex;\n",
              "      gap: 12px;\n",
              "    }\n",
              "\n",
              "    .colab-df-convert {\n",
              "      background-color: #E8F0FE;\n",
              "      border: none;\n",
              "      border-radius: 50%;\n",
              "      cursor: pointer;\n",
              "      display: none;\n",
              "      fill: #1967D2;\n",
              "      height: 32px;\n",
              "      padding: 0 0 0 0;\n",
              "      width: 32px;\n",
              "    }\n",
              "\n",
              "    .colab-df-convert:hover {\n",
              "      background-color: #E2EBFA;\n",
              "      box-shadow: 0px 1px 2px rgba(60, 64, 67, 0.3), 0px 1px 3px 1px rgba(60, 64, 67, 0.15);\n",
              "      fill: #174EA6;\n",
              "    }\n",
              "\n",
              "    .colab-df-buttons div {\n",
              "      margin-bottom: 4px;\n",
              "    }\n",
              "\n",
              "    [theme=dark] .colab-df-convert {\n",
              "      background-color: #3B4455;\n",
              "      fill: #D2E3FC;\n",
              "    }\n",
              "\n",
              "    [theme=dark] .colab-df-convert:hover {\n",
              "      background-color: #434B5C;\n",
              "      box-shadow: 0px 1px 3px 1px rgba(0, 0, 0, 0.15);\n",
              "      filter: drop-shadow(0px 1px 2px rgba(0, 0, 0, 0.3));\n",
              "      fill: #FFFFFF;\n",
              "    }\n",
              "  </style>\n",
              "\n",
              "    <script>\n",
              "      const buttonEl =\n",
              "        document.querySelector('#df-b9f0f31f-0dfa-42f1-8054-fe91629a4465 button.colab-df-convert');\n",
              "      buttonEl.style.display =\n",
              "        google.colab.kernel.accessAllowed ? 'block' : 'none';\n",
              "\n",
              "      async function convertToInteractive(key) {\n",
              "        const element = document.querySelector('#df-b9f0f31f-0dfa-42f1-8054-fe91629a4465');\n",
              "        const dataTable =\n",
              "          await google.colab.kernel.invokeFunction('convertToInteractive',\n",
              "                                                    [key], {});\n",
              "        if (!dataTable) return;\n",
              "\n",
              "        const docLinkHtml = 'Like what you see? Visit the ' +\n",
              "          '<a target=\"_blank\" href=https://colab.research.google.com/notebooks/data_table.ipynb>data table notebook</a>'\n",
              "          + ' to learn more about interactive tables.';\n",
              "        element.innerHTML = '';\n",
              "        dataTable['output_type'] = 'display_data';\n",
              "        await google.colab.output.renderOutput(dataTable, element);\n",
              "        const docLink = document.createElement('div');\n",
              "        docLink.innerHTML = docLinkHtml;\n",
              "        element.appendChild(docLink);\n",
              "      }\n",
              "    </script>\n",
              "  </div>\n",
              "\n",
              "\n",
              "<div id=\"df-687389f5-94ac-4f8d-b1b2-3bb296e4b8d6\">\n",
              "  <button class=\"colab-df-quickchart\" onclick=\"quickchart('df-687389f5-94ac-4f8d-b1b2-3bb296e4b8d6')\"\n",
              "            title=\"Suggest charts\"\n",
              "            style=\"display:none;\">\n",
              "\n",
              "<svg xmlns=\"http://www.w3.org/2000/svg\" height=\"24px\"viewBox=\"0 0 24 24\"\n",
              "     width=\"24px\">\n",
              "    <g>\n",
              "        <path d=\"M19 3H5c-1.1 0-2 .9-2 2v14c0 1.1.9 2 2 2h14c1.1 0 2-.9 2-2V5c0-1.1-.9-2-2-2zM9 17H7v-7h2v7zm4 0h-2V7h2v10zm4 0h-2v-4h2v4z\"/>\n",
              "    </g>\n",
              "</svg>\n",
              "  </button>\n",
              "\n",
              "<style>\n",
              "  .colab-df-quickchart {\n",
              "      --bg-color: #E8F0FE;\n",
              "      --fill-color: #1967D2;\n",
              "      --hover-bg-color: #E2EBFA;\n",
              "      --hover-fill-color: #174EA6;\n",
              "      --disabled-fill-color: #AAA;\n",
              "      --disabled-bg-color: #DDD;\n",
              "  }\n",
              "\n",
              "  [theme=dark] .colab-df-quickchart {\n",
              "      --bg-color: #3B4455;\n",
              "      --fill-color: #D2E3FC;\n",
              "      --hover-bg-color: #434B5C;\n",
              "      --hover-fill-color: #FFFFFF;\n",
              "      --disabled-bg-color: #3B4455;\n",
              "      --disabled-fill-color: #666;\n",
              "  }\n",
              "\n",
              "  .colab-df-quickchart {\n",
              "    background-color: var(--bg-color);\n",
              "    border: none;\n",
              "    border-radius: 50%;\n",
              "    cursor: pointer;\n",
              "    display: none;\n",
              "    fill: var(--fill-color);\n",
              "    height: 32px;\n",
              "    padding: 0;\n",
              "    width: 32px;\n",
              "  }\n",
              "\n",
              "  .colab-df-quickchart:hover {\n",
              "    background-color: var(--hover-bg-color);\n",
              "    box-shadow: 0 1px 2px rgba(60, 64, 67, 0.3), 0 1px 3px 1px rgba(60, 64, 67, 0.15);\n",
              "    fill: var(--button-hover-fill-color);\n",
              "  }\n",
              "\n",
              "  .colab-df-quickchart-complete:disabled,\n",
              "  .colab-df-quickchart-complete:disabled:hover {\n",
              "    background-color: var(--disabled-bg-color);\n",
              "    fill: var(--disabled-fill-color);\n",
              "    box-shadow: none;\n",
              "  }\n",
              "\n",
              "  .colab-df-spinner {\n",
              "    border: 2px solid var(--fill-color);\n",
              "    border-color: transparent;\n",
              "    border-bottom-color: var(--fill-color);\n",
              "    animation:\n",
              "      spin 1s steps(1) infinite;\n",
              "  }\n",
              "\n",
              "  @keyframes spin {\n",
              "    0% {\n",
              "      border-color: transparent;\n",
              "      border-bottom-color: var(--fill-color);\n",
              "      border-left-color: var(--fill-color);\n",
              "    }\n",
              "    20% {\n",
              "      border-color: transparent;\n",
              "      border-left-color: var(--fill-color);\n",
              "      border-top-color: var(--fill-color);\n",
              "    }\n",
              "    30% {\n",
              "      border-color: transparent;\n",
              "      border-left-color: var(--fill-color);\n",
              "      border-top-color: var(--fill-color);\n",
              "      border-right-color: var(--fill-color);\n",
              "    }\n",
              "    40% {\n",
              "      border-color: transparent;\n",
              "      border-right-color: var(--fill-color);\n",
              "      border-top-color: var(--fill-color);\n",
              "    }\n",
              "    60% {\n",
              "      border-color: transparent;\n",
              "      border-right-color: var(--fill-color);\n",
              "    }\n",
              "    80% {\n",
              "      border-color: transparent;\n",
              "      border-right-color: var(--fill-color);\n",
              "      border-bottom-color: var(--fill-color);\n",
              "    }\n",
              "    90% {\n",
              "      border-color: transparent;\n",
              "      border-bottom-color: var(--fill-color);\n",
              "    }\n",
              "  }\n",
              "</style>\n",
              "\n",
              "  <script>\n",
              "    async function quickchart(key) {\n",
              "      const quickchartButtonEl =\n",
              "        document.querySelector('#' + key + ' button');\n",
              "      quickchartButtonEl.disabled = true;  // To prevent multiple clicks.\n",
              "      quickchartButtonEl.classList.add('colab-df-spinner');\n",
              "      try {\n",
              "        const charts = await google.colab.kernel.invokeFunction(\n",
              "            'suggestCharts', [key], {});\n",
              "      } catch (error) {\n",
              "        console.error('Error during call to suggestCharts:', error);\n",
              "      }\n",
              "      quickchartButtonEl.classList.remove('colab-df-spinner');\n",
              "      quickchartButtonEl.classList.add('colab-df-quickchart-complete');\n",
              "    }\n",
              "    (() => {\n",
              "      let quickchartButtonEl =\n",
              "        document.querySelector('#df-687389f5-94ac-4f8d-b1b2-3bb296e4b8d6 button');\n",
              "      quickchartButtonEl.style.display =\n",
              "        google.colab.kernel.accessAllowed ? 'block' : 'none';\n",
              "    })();\n",
              "  </script>\n",
              "</div>\n",
              "    </div>\n",
              "  </div>\n"
            ]
          },
          "metadata": {},
          "execution_count": 8
        }
      ]
    },
    {
      "cell_type": "markdown",
      "source": [
        "Properties: sentence, label (acceptibility judgement: 0 = unacceptable, 1 = acceptable)"
      ],
      "metadata": {
        "id": "TiXRA3VysJkT"
      }
    },
    {
      "cell_type": "code",
      "source": [
        "# Sentences labeled as not grammatically acceptable\n",
        "\n",
        "df.loc[df.label == 0].sample(5)[['sentence', 'label']]"
      ],
      "metadata": {
        "colab": {
          "base_uri": "https://localhost:8080/",
          "height": 206
        },
        "id": "0kJJfC9Lrl5p",
        "outputId": "d71cf20b-0933-4162-c266-973fb8deebcb"
      },
      "execution_count": 9,
      "outputs": [
        {
          "output_type": "execute_result",
          "data": {
            "text/plain": [
              "                                         sentence  label\n",
              "4884  Pictures of whom appeared in the newspaper?      0\n",
              "2744              Carmen bought Diana of a dress.      0\n",
              "3128                         Paul yawned at Mary.      0\n",
              "7057                I tried and buy some whiskey.      0\n",
              "3000                     Paintings admire easily.      0"
            ],
            "text/html": [
              "\n",
              "  <div id=\"df-8767a2f0-b449-40d8-83c2-43bcd46f618c\" class=\"colab-df-container\">\n",
              "    <div>\n",
              "<style scoped>\n",
              "    .dataframe tbody tr th:only-of-type {\n",
              "        vertical-align: middle;\n",
              "    }\n",
              "\n",
              "    .dataframe tbody tr th {\n",
              "        vertical-align: top;\n",
              "    }\n",
              "\n",
              "    .dataframe thead th {\n",
              "        text-align: right;\n",
              "    }\n",
              "</style>\n",
              "<table border=\"1\" class=\"dataframe\">\n",
              "  <thead>\n",
              "    <tr style=\"text-align: right;\">\n",
              "      <th></th>\n",
              "      <th>sentence</th>\n",
              "      <th>label</th>\n",
              "    </tr>\n",
              "  </thead>\n",
              "  <tbody>\n",
              "    <tr>\n",
              "      <th>4884</th>\n",
              "      <td>Pictures of whom appeared in the newspaper?</td>\n",
              "      <td>0</td>\n",
              "    </tr>\n",
              "    <tr>\n",
              "      <th>2744</th>\n",
              "      <td>Carmen bought Diana of a dress.</td>\n",
              "      <td>0</td>\n",
              "    </tr>\n",
              "    <tr>\n",
              "      <th>3128</th>\n",
              "      <td>Paul yawned at Mary.</td>\n",
              "      <td>0</td>\n",
              "    </tr>\n",
              "    <tr>\n",
              "      <th>7057</th>\n",
              "      <td>I tried and buy some whiskey.</td>\n",
              "      <td>0</td>\n",
              "    </tr>\n",
              "    <tr>\n",
              "      <th>3000</th>\n",
              "      <td>Paintings admire easily.</td>\n",
              "      <td>0</td>\n",
              "    </tr>\n",
              "  </tbody>\n",
              "</table>\n",
              "</div>\n",
              "    <div class=\"colab-df-buttons\">\n",
              "\n",
              "  <div class=\"colab-df-container\">\n",
              "    <button class=\"colab-df-convert\" onclick=\"convertToInteractive('df-8767a2f0-b449-40d8-83c2-43bcd46f618c')\"\n",
              "            title=\"Convert this dataframe to an interactive table.\"\n",
              "            style=\"display:none;\">\n",
              "\n",
              "  <svg xmlns=\"http://www.w3.org/2000/svg\" height=\"24px\" viewBox=\"0 -960 960 960\">\n",
              "    <path d=\"M120-120v-720h720v720H120Zm60-500h600v-160H180v160Zm220 220h160v-160H400v160Zm0 220h160v-160H400v160ZM180-400h160v-160H180v160Zm440 0h160v-160H620v160ZM180-180h160v-160H180v160Zm440 0h160v-160H620v160Z\"/>\n",
              "  </svg>\n",
              "    </button>\n",
              "\n",
              "  <style>\n",
              "    .colab-df-container {\n",
              "      display:flex;\n",
              "      gap: 12px;\n",
              "    }\n",
              "\n",
              "    .colab-df-convert {\n",
              "      background-color: #E8F0FE;\n",
              "      border: none;\n",
              "      border-radius: 50%;\n",
              "      cursor: pointer;\n",
              "      display: none;\n",
              "      fill: #1967D2;\n",
              "      height: 32px;\n",
              "      padding: 0 0 0 0;\n",
              "      width: 32px;\n",
              "    }\n",
              "\n",
              "    .colab-df-convert:hover {\n",
              "      background-color: #E2EBFA;\n",
              "      box-shadow: 0px 1px 2px rgba(60, 64, 67, 0.3), 0px 1px 3px 1px rgba(60, 64, 67, 0.15);\n",
              "      fill: #174EA6;\n",
              "    }\n",
              "\n",
              "    .colab-df-buttons div {\n",
              "      margin-bottom: 4px;\n",
              "    }\n",
              "\n",
              "    [theme=dark] .colab-df-convert {\n",
              "      background-color: #3B4455;\n",
              "      fill: #D2E3FC;\n",
              "    }\n",
              "\n",
              "    [theme=dark] .colab-df-convert:hover {\n",
              "      background-color: #434B5C;\n",
              "      box-shadow: 0px 1px 3px 1px rgba(0, 0, 0, 0.15);\n",
              "      filter: drop-shadow(0px 1px 2px rgba(0, 0, 0, 0.3));\n",
              "      fill: #FFFFFF;\n",
              "    }\n",
              "  </style>\n",
              "\n",
              "    <script>\n",
              "      const buttonEl =\n",
              "        document.querySelector('#df-8767a2f0-b449-40d8-83c2-43bcd46f618c button.colab-df-convert');\n",
              "      buttonEl.style.display =\n",
              "        google.colab.kernel.accessAllowed ? 'block' : 'none';\n",
              "\n",
              "      async function convertToInteractive(key) {\n",
              "        const element = document.querySelector('#df-8767a2f0-b449-40d8-83c2-43bcd46f618c');\n",
              "        const dataTable =\n",
              "          await google.colab.kernel.invokeFunction('convertToInteractive',\n",
              "                                                    [key], {});\n",
              "        if (!dataTable) return;\n",
              "\n",
              "        const docLinkHtml = 'Like what you see? Visit the ' +\n",
              "          '<a target=\"_blank\" href=https://colab.research.google.com/notebooks/data_table.ipynb>data table notebook</a>'\n",
              "          + ' to learn more about interactive tables.';\n",
              "        element.innerHTML = '';\n",
              "        dataTable['output_type'] = 'display_data';\n",
              "        await google.colab.output.renderOutput(dataTable, element);\n",
              "        const docLink = document.createElement('div');\n",
              "        docLink.innerHTML = docLinkHtml;\n",
              "        element.appendChild(docLink);\n",
              "      }\n",
              "    </script>\n",
              "  </div>\n",
              "\n",
              "\n",
              "<div id=\"df-eaa5fa36-b8f4-4cd3-933e-34daf6ef325c\">\n",
              "  <button class=\"colab-df-quickchart\" onclick=\"quickchart('df-eaa5fa36-b8f4-4cd3-933e-34daf6ef325c')\"\n",
              "            title=\"Suggest charts\"\n",
              "            style=\"display:none;\">\n",
              "\n",
              "<svg xmlns=\"http://www.w3.org/2000/svg\" height=\"24px\"viewBox=\"0 0 24 24\"\n",
              "     width=\"24px\">\n",
              "    <g>\n",
              "        <path d=\"M19 3H5c-1.1 0-2 .9-2 2v14c0 1.1.9 2 2 2h14c1.1 0 2-.9 2-2V5c0-1.1-.9-2-2-2zM9 17H7v-7h2v7zm4 0h-2V7h2v10zm4 0h-2v-4h2v4z\"/>\n",
              "    </g>\n",
              "</svg>\n",
              "  </button>\n",
              "\n",
              "<style>\n",
              "  .colab-df-quickchart {\n",
              "      --bg-color: #E8F0FE;\n",
              "      --fill-color: #1967D2;\n",
              "      --hover-bg-color: #E2EBFA;\n",
              "      --hover-fill-color: #174EA6;\n",
              "      --disabled-fill-color: #AAA;\n",
              "      --disabled-bg-color: #DDD;\n",
              "  }\n",
              "\n",
              "  [theme=dark] .colab-df-quickchart {\n",
              "      --bg-color: #3B4455;\n",
              "      --fill-color: #D2E3FC;\n",
              "      --hover-bg-color: #434B5C;\n",
              "      --hover-fill-color: #FFFFFF;\n",
              "      --disabled-bg-color: #3B4455;\n",
              "      --disabled-fill-color: #666;\n",
              "  }\n",
              "\n",
              "  .colab-df-quickchart {\n",
              "    background-color: var(--bg-color);\n",
              "    border: none;\n",
              "    border-radius: 50%;\n",
              "    cursor: pointer;\n",
              "    display: none;\n",
              "    fill: var(--fill-color);\n",
              "    height: 32px;\n",
              "    padding: 0;\n",
              "    width: 32px;\n",
              "  }\n",
              "\n",
              "  .colab-df-quickchart:hover {\n",
              "    background-color: var(--hover-bg-color);\n",
              "    box-shadow: 0 1px 2px rgba(60, 64, 67, 0.3), 0 1px 3px 1px rgba(60, 64, 67, 0.15);\n",
              "    fill: var(--button-hover-fill-color);\n",
              "  }\n",
              "\n",
              "  .colab-df-quickchart-complete:disabled,\n",
              "  .colab-df-quickchart-complete:disabled:hover {\n",
              "    background-color: var(--disabled-bg-color);\n",
              "    fill: var(--disabled-fill-color);\n",
              "    box-shadow: none;\n",
              "  }\n",
              "\n",
              "  .colab-df-spinner {\n",
              "    border: 2px solid var(--fill-color);\n",
              "    border-color: transparent;\n",
              "    border-bottom-color: var(--fill-color);\n",
              "    animation:\n",
              "      spin 1s steps(1) infinite;\n",
              "  }\n",
              "\n",
              "  @keyframes spin {\n",
              "    0% {\n",
              "      border-color: transparent;\n",
              "      border-bottom-color: var(--fill-color);\n",
              "      border-left-color: var(--fill-color);\n",
              "    }\n",
              "    20% {\n",
              "      border-color: transparent;\n",
              "      border-left-color: var(--fill-color);\n",
              "      border-top-color: var(--fill-color);\n",
              "    }\n",
              "    30% {\n",
              "      border-color: transparent;\n",
              "      border-left-color: var(--fill-color);\n",
              "      border-top-color: var(--fill-color);\n",
              "      border-right-color: var(--fill-color);\n",
              "    }\n",
              "    40% {\n",
              "      border-color: transparent;\n",
              "      border-right-color: var(--fill-color);\n",
              "      border-top-color: var(--fill-color);\n",
              "    }\n",
              "    60% {\n",
              "      border-color: transparent;\n",
              "      border-right-color: var(--fill-color);\n",
              "    }\n",
              "    80% {\n",
              "      border-color: transparent;\n",
              "      border-right-color: var(--fill-color);\n",
              "      border-bottom-color: var(--fill-color);\n",
              "    }\n",
              "    90% {\n",
              "      border-color: transparent;\n",
              "      border-bottom-color: var(--fill-color);\n",
              "    }\n",
              "  }\n",
              "</style>\n",
              "\n",
              "  <script>\n",
              "    async function quickchart(key) {\n",
              "      const quickchartButtonEl =\n",
              "        document.querySelector('#' + key + ' button');\n",
              "      quickchartButtonEl.disabled = true;  // To prevent multiple clicks.\n",
              "      quickchartButtonEl.classList.add('colab-df-spinner');\n",
              "      try {\n",
              "        const charts = await google.colab.kernel.invokeFunction(\n",
              "            'suggestCharts', [key], {});\n",
              "      } catch (error) {\n",
              "        console.error('Error during call to suggestCharts:', error);\n",
              "      }\n",
              "      quickchartButtonEl.classList.remove('colab-df-spinner');\n",
              "      quickchartButtonEl.classList.add('colab-df-quickchart-complete');\n",
              "    }\n",
              "    (() => {\n",
              "      let quickchartButtonEl =\n",
              "        document.querySelector('#df-eaa5fa36-b8f4-4cd3-933e-34daf6ef325c button');\n",
              "      quickchartButtonEl.style.display =\n",
              "        google.colab.kernel.accessAllowed ? 'block' : 'none';\n",
              "    })();\n",
              "  </script>\n",
              "</div>\n",
              "    </div>\n",
              "  </div>\n"
            ]
          },
          "metadata": {},
          "execution_count": 9
        }
      ]
    },
    {
      "cell_type": "code",
      "source": [
        "# Extracting sentences and labels of our training set as numpy ndaarrays\n",
        "\n",
        "# Get the lists of sentences and their labels\n",
        "sentences = df.sentence.values\n",
        "labels = df.label.values"
      ],
      "metadata": {
        "id": "R5Xw_BgtsY_M"
      },
      "execution_count": 10,
      "outputs": []
    },
    {
      "cell_type": "markdown",
      "source": [
        "# Tokenization & Input Formatting"
      ],
      "metadata": {
        "id": "IB-hVQnysxVs"
      }
    },
    {
      "cell_type": "markdown",
      "source": [
        "## BERT Tokenizer\n",
        "\n",
        "To feed our text to BERT, it must be split into tokens, and then these tokens must be mapped to their index in the tokenizer vocabulary.\n"
      ],
      "metadata": {
        "id": "FcZqdCFCs1M3"
      }
    },
    {
      "cell_type": "code",
      "source": [
        "from transformers import BertTokenizer\n",
        "\n",
        "# Load the BERT tokenizer\n",
        "print('Loading the BERT tokenizer...')\n",
        "tokenizer = BertTokenizer.from_pretrained('bert-base-uncased', do_lower_case = True)"
      ],
      "metadata": {
        "colab": {
          "base_uri": "https://localhost:8080/",
          "height": 290,
          "referenced_widgets": [
            "509f2b28f86c457aada6fb1140a6c3ea",
            "42ef4e7f32d44c139a4e3194a0350f60",
            "bb6dd4e7352340e2a828b6e6d57019cb",
            "9454c1c979aa468981827f076345bc50",
            "9f84f562de074fd1a0a0669a3a05a2e6",
            "9d2b4f9c593d4b788b63620a7446788a",
            "5afd71f8aa454ba58ff05a08b97362ad",
            "05cd90e448854424ac69b6d3685d029c",
            "1d135a4a416d4e479dcde8391bdfd7e8",
            "4d29cf11d5dc46e1ad9b7ace0af29b17",
            "80d7d252c89a46a4a603f40db1c9077e",
            "df59050a422e4d038407af00dd7dd8e1",
            "6e8498b9372a4ae6bcbae1ec2d07d533",
            "baf67830151a4dd18a224e84fe9c2d40",
            "1f208542d9e249c699f11250a1c21a8f",
            "3db9aacaae434af4a74e9feecb128c66",
            "fa21112d8718438887bac766cd70fbee",
            "fab8a60d5fdb49f9adfb6045dca81378",
            "0bee1d2e85e24573b4968a3d4ff47126",
            "cdbbf94e6022413396f949da4806bd17",
            "f437d81834804ccf8c027138408b464c",
            "b7b328b26cbe461cba20b01600ed30ef",
            "6e564653afc647d5a3ed92b33663b720",
            "1374892c8fc740f685aec18e22ebb43f",
            "1e0554cc2eb0434a9bf60ab3a1d49c8f",
            "4b988770e23f4dcba4b33e26d9368198",
            "f93fc5bdab2346f99a05c59ffc8573e2",
            "f3e2529f6bdb454eb4cf6ece931a843a",
            "16253f79830c43758a02630232ebe6bc",
            "7a1998dd4a2d4f938df4fd428d291410",
            "6a1a63802a5044a99f536db5eb1fd245",
            "2eeb204040bf4b8ba98ea06efb4fe874",
            "84baca5813e14859b84b3e7effe6a23a",
            "065763e9ecc944318ab56f2cf55668bd",
            "f51a813f10c249ad9ea7298a905e6278",
            "646df33fcb154438ae387c14c6a059fe",
            "314d1ce75d2d474691a48c5e5989a3e6",
            "82bf88e9be554e6f902355ce5eab3ffd",
            "c1d98f0240184681b50bbfc19996afc9",
            "a37eb8ac8c664c3abb5282d43db537bf",
            "01c760dfaa434977a6d30cd886d1a031",
            "23aa9e22e0364e0e84262be4f4a82630",
            "2bedb56c59eb434fae49df5271452543",
            "dc68b92d823d4a0db61fd86a190393fa"
          ]
        },
        "id": "wbAQPbWcsrSi",
        "outputId": "b187d70a-5a9f-426b-ef1b-ef8f9db31fa5"
      },
      "execution_count": 11,
      "outputs": [
        {
          "output_type": "stream",
          "name": "stdout",
          "text": [
            "Loading the BERT tokenizer...\n"
          ]
        },
        {
          "output_type": "stream",
          "name": "stderr",
          "text": [
            "/usr/local/lib/python3.10/dist-packages/huggingface_hub/utils/_token.py:72: UserWarning: \n",
            "The secret `HF_TOKEN` does not exist in your Colab secrets.\n",
            "To authenticate with the Hugging Face Hub, create a token in your settings tab (https://huggingface.co/settings/tokens), set it as secret in your Google Colab and restart your session.\n",
            "You will be able to reuse this secret in all of your notebooks.\n",
            "Please note that authentication is recommended but still optional to access public models or datasets.\n",
            "  warnings.warn(\n"
          ]
        },
        {
          "output_type": "display_data",
          "data": {
            "text/plain": [
              "tokenizer_config.json:   0%|          | 0.00/28.0 [00:00<?, ?B/s]"
            ],
            "application/vnd.jupyter.widget-view+json": {
              "version_major": 2,
              "version_minor": 0,
              "model_id": "509f2b28f86c457aada6fb1140a6c3ea"
            }
          },
          "metadata": {}
        },
        {
          "output_type": "display_data",
          "data": {
            "text/plain": [
              "vocab.txt:   0%|          | 0.00/232k [00:00<?, ?B/s]"
            ],
            "application/vnd.jupyter.widget-view+json": {
              "version_major": 2,
              "version_minor": 0,
              "model_id": "df59050a422e4d038407af00dd7dd8e1"
            }
          },
          "metadata": {}
        },
        {
          "output_type": "display_data",
          "data": {
            "text/plain": [
              "tokenizer.json:   0%|          | 0.00/466k [00:00<?, ?B/s]"
            ],
            "application/vnd.jupyter.widget-view+json": {
              "version_major": 2,
              "version_minor": 0,
              "model_id": "6e564653afc647d5a3ed92b33663b720"
            }
          },
          "metadata": {}
        },
        {
          "output_type": "display_data",
          "data": {
            "text/plain": [
              "config.json:   0%|          | 0.00/570 [00:00<?, ?B/s]"
            ],
            "application/vnd.jupyter.widget-view+json": {
              "version_major": 2,
              "version_minor": 0,
              "model_id": "065763e9ecc944318ab56f2cf55668bd"
            }
          },
          "metadata": {}
        }
      ]
    },
    {
      "cell_type": "code",
      "source": [
        "# Applying tokenizer to one sentence for output\n",
        "\n",
        "print('Original: ', sentences[0])\n",
        "\n",
        "# Print the sentence split into tokens\n",
        "print('Tokenized: ', tokenizer.tokenize(sentences[0]))\n",
        "\n",
        "# Print the sentence mapped to token ids\n",
        "print('Token IDs: ', tokenizer.convert_tokens_to_ids(tokenizer.tokenize(sentences[0])))"
      ],
      "metadata": {
        "colab": {
          "base_uri": "https://localhost:8080/"
        },
        "id": "7u5dFq1KtPBW",
        "outputId": "91993c3f-b2c7-4c62-ecd5-54ee315509c1"
      },
      "execution_count": 12,
      "outputs": [
        {
          "output_type": "stream",
          "name": "stdout",
          "text": [
            "Original:  Our friends won't buy this analysis, let alone the next one we propose.\n",
            "Tokenized:  ['our', 'friends', 'won', \"'\", 't', 'buy', 'this', 'analysis', ',', 'let', 'alone', 'the', 'next', 'one', 'we', 'propose', '.']\n",
            "Token IDs:  [2256, 2814, 2180, 1005, 1056, 4965, 2023, 4106, 1010, 2292, 2894, 1996, 2279, 2028, 2057, 16599, 1012]\n"
          ]
        }
      ]
    },
    {
      "cell_type": "markdown",
      "source": [
        "`token.encode` handles both steps of `tokenize` and `convert_tokens_to_ids`"
      ],
      "metadata": {
        "id": "6rwHKpGBvQiI"
      }
    },
    {
      "cell_type": "markdown",
      "source": [
        "## Required Formatting:\n",
        "\n",
        "\n",
        "\n",
        "1.   Add special tokens to the start and end of each sentence.\n",
        "2.  Pad & truncate all sentences to a single constant length.\n",
        "3. Explicitly differentiate real tokens from padding tokens with the \"attention mask\".\n",
        "\n",
        "`[SEP]`\n",
        "- The `[SEP]` token needs to be appended to the end of every sentence. It separates between sentences and helps tell BERT to determine something (e.g. can the answer to the question in sentence A be found in sentence B?)\n",
        "\n",
        "`[CLS]`\n",
        "- `[CLS]` needs to be appended to the beginning of every sentence for classification tasks.\n",
        "- BERT consists of 12 Tranformer layers where each transformer takes ina. alist of token embeddings and produces the same number of embeddings on the output\n",
        "![image.png](data:image/png;base64,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)\n",
        "\n",
        "According to the [BERT paper](https://arxiv.org/pdf/1810.04805.pdf), the final hidden state corresponding to the `CLS token is used as the aggregate sequence representation for classification tasks. The output of the final (12th) transformer, only the first embedding (corresponding to the [CLS] token is used by the classifier)\n",
        "\n",
        "\n"
      ],
      "metadata": {
        "id": "JgOOo9LVva7C"
      }
    },
    {
      "cell_type": "markdown",
      "source": [
        "## Sentence Length and Attention Mask\n",
        "\n",
        "BERT constraints:\n",
        "\n",
        "\n",
        "1.   All sentences must be padded or truncated to a single, fixed length.\n",
        "2.   The maximum sentence length is 512 tokens\n",
        "\n",
        "Padding is done with a special `[PAD]` token, which is at index 0 in the BERT vocabulary. The below illustration demonstrates padding out to a \"MAX_LEN\" of 3 tokens\n",
        "\n",
        "![image.png](data:image/png;base64,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)\n",
        "\n",
        "The \"Attention Mask\" is an array of 1s and 0s indicating which tokens are padding and which aren't. The padding tokens aren't simply skipped over but rather fed through the model and incorporated in teh results (thereby impacting both model speed and accuracy)\n"
      ],
      "metadata": {
        "id": "qo4anc9eoxos"
      }
    },
    {
      "cell_type": "markdown",
      "source": [
        "## Sentences to IDs\n",
        "\n",
        "The `tokenizer.encode` function combines these steps:\n",
        "\n",
        "\n",
        "1.   Split the sentence into tokens\n",
        "2.   Add the special [CLS] and [SEP] tokens\n",
        "3. Map the tokens to their IDs.\n",
        "\n"
      ],
      "metadata": {
        "id": "p_jzhrC4ruML"
      }
    },
    {
      "cell_type": "code",
      "source": [
        "# Tokenize all the sentences and map the tokens to their word IDs\n",
        "input_ids = []\n",
        "\n",
        "# For every sentence\n",
        "for sent in sentences:\n",
        "  # `encode` will\n",
        "  # 1) Tokenize the sentence\n",
        "  # 2) Prepend the `[CLS]` token to the start\n",
        "  # 3) Append the '[SEP]' token to the end\n",
        "  # 4) Map tokens to their IDs\n",
        "  encoded_sent = tokenizer.encode(\n",
        "      sent,                         # Sentence to encode\n",
        "      add_special_tokens = True,    # Add '[CLS]' and '[SEP]'\n",
        " # This function also supports truncation and conversion\n",
        "                        # to pytorch tensors, but we need to do padding, so we\n",
        "                        # can't use these features.\n",
        "                        #max_length = 128,          # Truncate all sentences.\n",
        "                        #return_tensors = 'pt',     # Return pytorch tensors.\n",
        "  )\n",
        "\n",
        "  # Add the encoded sentence to the list\n",
        "  input_ids.append(encoded_sent)\n",
        "\n",
        "# Print sentence 0, now as a list of IDs.\n",
        "print('Original: ', sentences[0])\n",
        "print('Token IDs:', input_ids[0])"
      ],
      "metadata": {
        "colab": {
          "base_uri": "https://localhost:8080/"
        },
        "id": "xTZ0ISC2t1nE",
        "outputId": "ab2d0776-60e7-42fe-cb71-39baffa8ab05"
      },
      "execution_count": 13,
      "outputs": [
        {
          "output_type": "stream",
          "name": "stdout",
          "text": [
            "Original:  Our friends won't buy this analysis, let alone the next one we propose.\n",
            "Token IDs: [101, 2256, 2814, 2180, 1005, 1056, 4965, 2023, 4106, 1010, 2292, 2894, 1996, 2279, 2028, 2057, 16599, 1012, 102]\n"
          ]
        }
      ]
    },
    {
      "cell_type": "markdown",
      "source": [
        "## Padding and Truncating"
      ],
      "metadata": {
        "id": "G1SbrE6_tPr7"
      }
    },
    {
      "cell_type": "markdown",
      "source": [],
      "metadata": {
        "id": "JGxa_RyHvPUt"
      }
    },
    {
      "cell_type": "code",
      "source": [
        "print('Max sentence length: ', max([len(sen) for sen in input_ids]))"
      ],
      "metadata": {
        "colab": {
          "base_uri": "https://localhost:8080/"
        },
        "id": "lHqAOYH2tUNm",
        "outputId": "a17fabae-f3f1-442f-efcb-6c40c240acca"
      },
      "execution_count": 14,
      "outputs": [
        {
          "output_type": "stream",
          "name": "stdout",
          "text": [
            "Max sentence length:  47\n"
          ]
        }
      ]
    },
    {
      "cell_type": "markdown",
      "source": [
        "Choose MAX_LEN = 64 and apply the padding"
      ],
      "metadata": {
        "id": "0fw4lgwStj1o"
      }
    },
    {
      "cell_type": "code",
      "source": [
        "from keras.preprocessing.sequence import pad_sequences\n",
        "\n",
        "MAX_LEN = 64\n",
        "\n",
        "print('\\nPadding/truncating all sentences to %d values...'% MAX_LEN)\n",
        "\n",
        "print('\\nPadding token: \"{:}\", ID: {:}'.format(tokenizer.pad_token, tokenizer.pad_token_id))\n",
        "\n",
        "# Pad our input tokens with value 0\n",
        "# \"post\" indicates that we want to pad and truncate at the end of the sequence,\n",
        "# as opposed to the beginning\n",
        "input_ids = pad_sequences(input_ids, maxlen = MAX_LEN, dtype = \"long\", value = 0, truncating = \"post\", padding = \"post\")\n",
        "\n",
        "print('\\nDone.')"
      ],
      "metadata": {
        "colab": {
          "base_uri": "https://localhost:8080/"
        },
        "id": "GMygHQA0tgM5",
        "outputId": "a984d0c3-6ee5-4ccb-b53a-e3ffd86dd662"
      },
      "execution_count": 16,
      "outputs": [
        {
          "output_type": "stream",
          "name": "stdout",
          "text": [
            "\n",
            "Padding/truncating all sentences to 64 values...\n",
            "\n",
            "Padding token: \"[PAD]\", ID: 0\n",
            "\n",
            "Done.\n"
          ]
        }
      ]
    },
    {
      "cell_type": "markdown",
      "source": [
        "## Attention Masks\n",
        "\n",
        "Attention masks make it explicit which tokens are actual words versus which are padding.\n",
        "\n",
        "The BERT vocabulary doesn't use the ID of 0 so if a token ID is 0, then it's padding."
      ],
      "metadata": {
        "id": "szFKNfiYuSsX"
      }
    },
    {
      "cell_type": "code",
      "source": [
        "# create attention masks\n",
        "attention_masks = []\n",
        "\n",
        "for sent in input_ids:\n",
        "\n",
        "  # Create the attention mask\n",
        "  #   - If a token ID is 0, then it's padding, set the mask to 0\n",
        "  #   - If a token ID is >0, then it's a real token, set the mask to 1\n",
        "  att_mask = [int(token_id > 0) for token_id in sent]\n",
        "\n",
        "  # Store the attention mask for this sentence\n",
        "  attention_masks.append(att_mask)"
      ],
      "metadata": {
        "id": "ykILqwxquOTj"
      },
      "execution_count": 17,
      "outputs": []
    },
    {
      "cell_type": "markdown",
      "source": [
        "## Training and Validation Split"
      ],
      "metadata": {
        "id": "lxUFp1RLw-d-"
      }
    },
    {
      "cell_type": "code",
      "source": [
        "# Use train_test_split to split our data into train and validation sets for\n",
        "# training\n",
        "from sklearn.model_selection import train_test_split\n",
        "\n",
        "# Use 90% for training and 10% for validation.\n",
        "train_inputs, validation_inputs, train_labels, validation_labels = train_test_split(input_ids, labels,\n",
        "                                                            random_state=2018, test_size=0.1)\n",
        "# Do the same for the masks.\n",
        "train_masks, validation_masks, _, _ = train_test_split(attention_masks, labels,\n",
        "                                             random_state=2018, test_size=0.1)"
      ],
      "metadata": {
        "id": "yaV541dku1sl"
      },
      "execution_count": 19,
      "outputs": []
    },
    {
      "cell_type": "markdown",
      "source": [
        "##Converting to PyTorch Data Types\n",
        "\n",
        "Our model expects PyTorch tensors rather than numpy.ndarrays, so convert all of our dataset variables.\n"
      ],
      "metadata": {
        "id": "wBKkhmakxDIY"
      }
    },
    {
      "cell_type": "code",
      "source": [
        "# Convert all inputs and labels into torch tensors, the required datatype\n",
        "# for our model.\n",
        "train_inputs = torch.tensor(train_inputs)\n",
        "validation_inputs = torch.tensor(validation_inputs)\n",
        "\n",
        "train_labels = torch.tensor(train_labels)\n",
        "validation_labels = torch.tensor(validation_labels)\n",
        "\n",
        "train_masks = torch.tensor(train_masks)\n",
        "validation_masks = torch.tensor(validation_masks)"
      ],
      "metadata": {
        "id": "BoQKvdKfw8Cd"
      },
      "execution_count": 20,
      "outputs": []
    },
    {
      "cell_type": "markdown",
      "source": [
        "Creating an iterator for the dataset using the torch DataLoader class helps save memory during training because unlike for a loop, an iterator does not need to be loaded into memory"
      ],
      "metadata": {
        "id": "2bxdTcM3xjKM"
      }
    },
    {
      "cell_type": "code",
      "source": [
        "from torch.utils.data import TensorDataset, DataLoader, RandomSampler, SequentialSampler\n",
        "\n",
        "# The DataLoader needs to know our batch size for training, so we specify it\n",
        "# here.\n",
        "# For fine-tuning BERT on a specific task, the authors recommend a batch size of\n",
        "# 16 or 32.\n",
        "\n",
        "batch_size = 32\n",
        "\n",
        "# Create the DataLoader for our training set\n",
        "train_data = TensorDataset(train_inputs, train_masks, train_labels)\n",
        "train_sampler = RandomSampler(train_data)\n",
        "train_dataloader = DataLoader(train_data, sampler = train_sampler, batch_size = batch_size)\n",
        "\n",
        "# Create the DataLoader for our validation set\n",
        "validation_data = TensorDataset(validation_inputs, validation_masks, validation_labels)\n",
        "validation_sampler = SequentialSampler(validation_data)\n",
        "validation_dataloader = DataLoader(validation_data, sampler = validation_sampler, batch_size = batch_size)"
      ],
      "metadata": {
        "id": "HYKMyLvExNjt"
      },
      "execution_count": 23,
      "outputs": []
    },
    {
      "cell_type": "markdown",
      "source": [
        "# Train Our Classification Model\n"
      ],
      "metadata": {
        "id": "qhcH8a8MyU6q"
      }
    },
    {
      "cell_type": "markdown",
      "source": [
        "## 4.1 BertForSequenceClassification\n",
        "\n",
        "For this task, we first want to modify the pre-trained BERT model to give outputs for classification, and then we want to continue training the model on our dataset until that the entire model, end-to-end, is well-suited for our task.\n",
        "\n",
        "Here is the current list of classes provided from huggingface for fine-tuning:\n",
        "* BertModel\n",
        "* BertForPreTraining\n",
        "* BertForMaskedLM\n",
        "* BertForNextSentencePrediction\n",
        "* **BertForSequenceClassification** - The one we'll use.\n",
        "* BertForTokenClassification\n",
        "* BertForQuestionAnswering\n",
        "\n",
        "The documentation for these can be found under [here](https://huggingface.co/transformers/v2.2.0/model_doc/bert.html)."
      ],
      "metadata": {
        "id": "y33Vwr-2yXek"
      }
    },
    {
      "cell_type": "markdown",
      "source": [
        "We'll be using [BertForSequenceClassification](https://huggingface.co/transformers/v2.2.0/model_doc/bert.html#bertforsequenceclassification). This is the normal BERT model with an added single linear layer on top for classification that we will use as a sentence classifier. As we feed input data, the entire pre-trained BERT model and the additional untrained classification layer is trained on our specific task.\n",
        "\n",
        " There are a few different pre-trained BERT models available. \"bert-base-uncased\" means the version that has only lowercase letters (\"uncased\") and is the smaller version of the two (\"base\" vs \"large\").\n",
        "\n",
        "The documentation for from_pretrained can be found here, with the additional parameters defined here.\n"
      ],
      "metadata": {
        "id": "qjB2PJTYynce"
      }
    },
    {
      "cell_type": "code",
      "source": [
        "from transformers import BertForSequenceClassification, AdamW, BertConfig\n",
        "\n",
        "# Load BertForSequenceClassification, the pretrained BERT model with a single\n",
        "# linear classification layer on top.\n",
        "model = BertForSequenceClassification.from_pretrained(\n",
        "    \"bert-base-uncased\", # Use the 12-layer BERT model, with an uncased vocab.\n",
        "    num_labels = 2, # The number of output labels--2 for binary classification.\n",
        "                    # You can increase this for multi-class tasks.\n",
        "    output_attentions = False, # Whether the model returns attentions weights.\n",
        "    output_hidden_states = False, # Whether the model returns all hidden-states.\n",
        ")\n",
        "\n",
        "# Tell pytorch to run this model on the GPU.\n",
        "model.cuda()"
      ],
      "metadata": {
        "colab": {
          "base_uri": "https://localhost:8080/",
          "height": 1000,
          "referenced_widgets": [
            "f15ef01ba3ca4b258e707df2c47c39d0",
            "c7fb171aceb7499390f7908cdd1cfde5",
            "e6d0ee51a2764f3bbbe9ed1b252c2c6f",
            "6672983901fe4cf1959f7b281e7b5314",
            "66ee58b6d79740a6bda113ec9f40d977",
            "7af25190ab934a0fa555a107a357f64a",
            "a3590095607542bba1b5b4e93df80b87",
            "f0df6d54f2744fe687c728ee88f9d24e",
            "9e5d58e5c68a429985e2665fb825f7f5",
            "f385f2596a3b45818339daec4b52ad53",
            "4d52893a3302434ab0a50801992ece3e"
          ]
        },
        "id": "RbFNJtHryULv",
        "outputId": "45806d43-fe7e-4cbd-f82c-44704a0b9a61"
      },
      "execution_count": 24,
      "outputs": [
        {
          "output_type": "stream",
          "name": "stderr",
          "text": [
            "/usr/local/lib/python3.10/dist-packages/huggingface_hub/utils/_token.py:72: UserWarning: \n",
            "The secret `HF_TOKEN` does not exist in your Colab secrets.\n",
            "To authenticate with the Hugging Face Hub, create a token in your settings tab (https://huggingface.co/settings/tokens), set it as secret in your Google Colab and restart your session.\n",
            "You will be able to reuse this secret in all of your notebooks.\n",
            "Please note that authentication is recommended but still optional to access public models or datasets.\n",
            "  warnings.warn(\n"
          ]
        },
        {
          "output_type": "display_data",
          "data": {
            "text/plain": [
              "model.safetensors:   0%|          | 0.00/440M [00:00<?, ?B/s]"
            ],
            "application/vnd.jupyter.widget-view+json": {
              "version_major": 2,
              "version_minor": 0,
              "model_id": "f15ef01ba3ca4b258e707df2c47c39d0"
            }
          },
          "metadata": {}
        },
        {
          "output_type": "stream",
          "name": "stderr",
          "text": [
            "Some weights of BertForSequenceClassification were not initialized from the model checkpoint at bert-base-uncased and are newly initialized: ['classifier.bias', 'classifier.weight']\n",
            "You should probably TRAIN this model on a down-stream task to be able to use it for predictions and inference.\n"
          ]
        },
        {
          "output_type": "execute_result",
          "data": {
            "text/plain": [
              "BertForSequenceClassification(\n",
              "  (bert): BertModel(\n",
              "    (embeddings): BertEmbeddings(\n",
              "      (word_embeddings): Embedding(30522, 768, padding_idx=0)\n",
              "      (position_embeddings): Embedding(512, 768)\n",
              "      (token_type_embeddings): Embedding(2, 768)\n",
              "      (LayerNorm): LayerNorm((768,), eps=1e-12, elementwise_affine=True)\n",
              "      (dropout): Dropout(p=0.1, inplace=False)\n",
              "    )\n",
              "    (encoder): BertEncoder(\n",
              "      (layer): ModuleList(\n",
              "        (0-11): 12 x BertLayer(\n",
              "          (attention): BertAttention(\n",
              "            (self): BertSelfAttention(\n",
              "              (query): Linear(in_features=768, out_features=768, bias=True)\n",
              "              (key): Linear(in_features=768, out_features=768, bias=True)\n",
              "              (value): Linear(in_features=768, out_features=768, bias=True)\n",
              "              (dropout): Dropout(p=0.1, inplace=False)\n",
              "            )\n",
              "            (output): BertSelfOutput(\n",
              "              (dense): Linear(in_features=768, out_features=768, bias=True)\n",
              "              (LayerNorm): LayerNorm((768,), eps=1e-12, elementwise_affine=True)\n",
              "              (dropout): Dropout(p=0.1, inplace=False)\n",
              "            )\n",
              "          )\n",
              "          (intermediate): BertIntermediate(\n",
              "            (dense): Linear(in_features=768, out_features=3072, bias=True)\n",
              "            (intermediate_act_fn): GELUActivation()\n",
              "          )\n",
              "          (output): BertOutput(\n",
              "            (dense): Linear(in_features=3072, out_features=768, bias=True)\n",
              "            (LayerNorm): LayerNorm((768,), eps=1e-12, elementwise_affine=True)\n",
              "            (dropout): Dropout(p=0.1, inplace=False)\n",
              "          )\n",
              "        )\n",
              "      )\n",
              "    )\n",
              "    (pooler): BertPooler(\n",
              "      (dense): Linear(in_features=768, out_features=768, bias=True)\n",
              "      (activation): Tanh()\n",
              "    )\n",
              "  )\n",
              "  (dropout): Dropout(p=0.1, inplace=False)\n",
              "  (classifier): Linear(in_features=768, out_features=2, bias=True)\n",
              ")"
            ]
          },
          "metadata": {},
          "execution_count": 24
        }
      ]
    },
    {
      "cell_type": "markdown",
      "source": [
        " We can browse all of the model's parameters by name here.\n",
        "\n",
        "Names and dimensions printed below for:\n",
        "1. The embedding layer.\n",
        "2. The first of the twelve transformers.\n",
        "3. The output layer."
      ],
      "metadata": {
        "id": "3EE_S3Ekyyxa"
      }
    },
    {
      "cell_type": "code",
      "source": [
        "# Get all of the model's parameters as a list of tuples.\n",
        "params = list(model.named_parameters())\n",
        "\n",
        "print('The BERT model has {:} different named parameters.\\n'.format(len(params)))\n",
        "\n",
        "print('==== Embedding Layer ====\\n')\n",
        "\n",
        "for p in params[0:5]:\n",
        "    print(\"{:<55} {:>12}\".format(p[0], str(tuple(p[1].size()))))\n",
        "\n",
        "print('\\n==== First Transformer ====\\n')\n",
        "\n",
        "for p in params[5:21]:\n",
        "    print(\"{:<55} {:>12}\".format(p[0], str(tuple(p[1].size()))))\n",
        "\n",
        "print('\\n==== Output Layer ====\\n')\n",
        "\n",
        "for p in params[-4:]:\n",
        "    print(\"{:<55} {:>12}\".format(p[0], str(tuple(p[1].size()))))"
      ],
      "metadata": {
        "colab": {
          "base_uri": "https://localhost:8080/"
        },
        "id": "pVvsuWOmyuVh",
        "outputId": "2dae61a3-d543-4330-92b9-d26b6800090d"
      },
      "execution_count": 25,
      "outputs": [
        {
          "output_type": "stream",
          "name": "stdout",
          "text": [
            "The BERT model has 201 different named parameters.\n",
            "\n",
            "==== Embedding Layer ====\n",
            "\n",
            "bert.embeddings.word_embeddings.weight                  (30522, 768)\n",
            "bert.embeddings.position_embeddings.weight                (512, 768)\n",
            "bert.embeddings.token_type_embeddings.weight                (2, 768)\n",
            "bert.embeddings.LayerNorm.weight                              (768,)\n",
            "bert.embeddings.LayerNorm.bias                                (768,)\n",
            "\n",
            "==== First Transformer ====\n",
            "\n",
            "bert.encoder.layer.0.attention.self.query.weight          (768, 768)\n",
            "bert.encoder.layer.0.attention.self.query.bias                (768,)\n",
            "bert.encoder.layer.0.attention.self.key.weight            (768, 768)\n",
            "bert.encoder.layer.0.attention.self.key.bias                  (768,)\n",
            "bert.encoder.layer.0.attention.self.value.weight          (768, 768)\n",
            "bert.encoder.layer.0.attention.self.value.bias                (768,)\n",
            "bert.encoder.layer.0.attention.output.dense.weight        (768, 768)\n",
            "bert.encoder.layer.0.attention.output.dense.bias              (768,)\n",
            "bert.encoder.layer.0.attention.output.LayerNorm.weight        (768,)\n",
            "bert.encoder.layer.0.attention.output.LayerNorm.bias          (768,)\n",
            "bert.encoder.layer.0.intermediate.dense.weight           (3072, 768)\n",
            "bert.encoder.layer.0.intermediate.dense.bias                 (3072,)\n",
            "bert.encoder.layer.0.output.dense.weight                 (768, 3072)\n",
            "bert.encoder.layer.0.output.dense.bias                        (768,)\n",
            "bert.encoder.layer.0.output.LayerNorm.weight                  (768,)\n",
            "bert.encoder.layer.0.output.LayerNorm.bias                    (768,)\n",
            "\n",
            "==== Output Layer ====\n",
            "\n",
            "bert.pooler.dense.weight                                  (768, 768)\n",
            "bert.pooler.dense.bias                                        (768,)\n",
            "classifier.weight                                           (2, 768)\n",
            "classifier.bias                                                 (2,)\n"
          ]
        }
      ]
    },
    {
      "cell_type": "markdown",
      "source": [
        "## Optimizer and Learning Rate Scheduler\n",
        "\n",
        "With the model loaded we need to grabbing the training hyperparameters from within the stored model\n",
        "\n",
        "For the purposes of fine-tuning, the authors recommend choosing from the following values:\n",
        "- Batch size: 16, 32  (We chose 32 when creating our DataLoaders).\n",
        "- Learning rate (Adam): 5e-5, 3e-5, 2e-5  (We'll use 2e-5).\n",
        "- Number of epochs: 2, 3, 4  (We'll use 4).\n",
        "\n",
        "he epsilon parameter `eps = 1e-8` is \"a very small number to prevent any division by zero in the implementation\" (from [here](https://machinelearningmastery.com/adam-optimization-algorithm-for-deep-learning/)).\n",
        "\n",
        "You can find the creation of the AdamW optimizer in `run_glue.py` [here](https://github.com/huggingface/transformers/blob/5bfcd0485ece086ebcbed2d008813037968a9e58/examples/run_glue.py#L109)."
      ],
      "metadata": {
        "id": "paXwvNG8z1cN"
      }
    },
    {
      "cell_type": "code",
      "source": [
        "# Note: AdamW is a class from the huggingface library (as opposed to pytorch)\n",
        "# I believe the 'W' stands for 'Weight Decay fix\"\n",
        "optimizer = AdamW(model.parameters(),\n",
        "                  lr = 2e-5, # args.learning_rate - default is 5e-5, our notebook had 2e-5\n",
        "                  eps = 1e-8 # args.adam_epsilon  - default is 1e-8.\n",
        "                )\n"
      ],
      "metadata": {
        "colab": {
          "base_uri": "https://localhost:8080/"
        },
        "id": "94H7DDDyy6Ra",
        "outputId": "77927e06-8ffe-4779-b455-2c99b173ef61"
      },
      "execution_count": 26,
      "outputs": [
        {
          "output_type": "stream",
          "name": "stderr",
          "text": [
            "/usr/local/lib/python3.10/dist-packages/transformers/optimization.py:411: FutureWarning: This implementation of AdamW is deprecated and will be removed in a future version. Use the PyTorch implementation torch.optim.AdamW instead, or set `no_deprecation_warning=True` to disable this warning\n",
            "  warnings.warn(\n"
          ]
        }
      ]
    },
    {
      "cell_type": "code",
      "source": [
        "from transformers import get_linear_schedule_with_warmup\n",
        "\n",
        "# Number of training epochs (authors recommend between 2 and 4)\n",
        "epochs = 4\n",
        "\n",
        "# Total number of training steps is number of batches * number of epochs.\n",
        "total_steps = len(train_dataloader) * epochs\n",
        "\n",
        "# Create the learning rate scheduler.\n",
        "scheduler = get_linear_schedule_with_warmup(optimizer,\n",
        "                                            num_warmup_steps = 0, # Default value in run_glue.py\n",
        "                                            num_training_steps = total_steps)"
      ],
      "metadata": {
        "id": "JqMPb1sx0G7S"
      },
      "execution_count": 27,
      "outputs": []
    },
    {
      "cell_type": "markdown",
      "source": [
        "## Training Loop\n",
        "\n",
        "\n",
        "Training loop:\n",
        "- Unpack our data inputs and labels\n",
        "- Load data onto the GPU for acceleration\n",
        "- Clear out the gradients calculated in the previous pass.\n",
        "    - In pytorch the gradients accumulate by default (useful for things like RNNs) unless you explicitly clear them out.\n",
        "- Forward pass (feed input data through the network)\n",
        "- Backward pass (backpropagation)\n",
        "- Tell the network to update parameters with optimizer.step()\n",
        "- Track variables for monitoring progress\n",
        "\n",
        "Evalution loop:\n",
        "- Unpack our data inputs and labels\n",
        "- Load data onto the GPU for acceleration\n",
        "- Forward pass (feed input data through the network)\n",
        "- Compute loss on our validation data and track variables for monitoring progress"
      ],
      "metadata": {
        "id": "kZ2p-6qE0QAR"
      }
    },
    {
      "cell_type": "markdown",
      "source": [
        "Define a helper function for calculating accuracy."
      ],
      "metadata": {
        "id": "AtsTTi3w0gtU"
      }
    },
    {
      "cell_type": "code",
      "source": [
        "import numpy as np\n",
        "\n",
        "# Function to calculate the accuracy of our predictions vs labels\n",
        "def flat_accuracy(preds, labels):\n",
        "    pred_flat = np.argmax(preds, axis=1).flatten()\n",
        "    labels_flat = labels.flatten()\n",
        "    return np.sum(pred_flat == labels_flat) / len(labels_flat)"
      ],
      "metadata": {
        "id": "bUjKL9FN0K3x"
      },
      "execution_count": 28,
      "outputs": []
    },
    {
      "cell_type": "markdown",
      "source": [
        "Helper function for formatting elapsed times.\n"
      ],
      "metadata": {
        "id": "iGvmgHFz0kl_"
      }
    },
    {
      "cell_type": "code",
      "source": [
        "import time\n",
        "import datetime\n",
        "\n",
        "def format_time(elapsed):\n",
        "    '''\n",
        "    Takes a time in seconds and returns a string hh:mm:ss\n",
        "    '''\n",
        "    # Round to the nearest second.\n",
        "    elapsed_rounded = int(round((elapsed)))\n",
        "\n",
        "    # Format as hh:mm:ss\n",
        "    return str(datetime.timedelta(seconds=elapsed_rounded))\n"
      ],
      "metadata": {
        "id": "AD3LghBZ0j06"
      },
      "execution_count": 29,
      "outputs": []
    },
    {
      "cell_type": "code",
      "source": [
        "import random\n",
        "\n",
        "# This training code is based on the `run_glue.py` script here:\n",
        "# https://github.com/huggingface/transformers/blob/5bfcd0485ece086ebcbed2d008813037968a9e58/examples/run_glue.py#L128\n",
        "\n",
        "\n",
        "# Set the seed value all over the place to make this reproducible.\n",
        "seed_val = 42\n",
        "\n",
        "random.seed(seed_val)\n",
        "np.random.seed(seed_val)\n",
        "torch.manual_seed(seed_val)\n",
        "torch.cuda.manual_seed_all(seed_val)\n",
        "\n",
        "# Store the average loss after each epoch so we can plot them.\n",
        "loss_values = []\n",
        "\n",
        "# For each epoch...\n",
        "for epoch_i in range(0, epochs):\n",
        "\n",
        "    # ========================================\n",
        "    #               Training\n",
        "    # ========================================\n",
        "\n",
        "    # Perform one full pass over the training set.\n",
        "\n",
        "    print(\"\")\n",
        "    print('======== Epoch {:} / {:} ========'.format(epoch_i + 1, epochs))\n",
        "    print('Training...')\n",
        "\n",
        "    # Measure how long the training epoch takes.\n",
        "    t0 = time.time()\n",
        "\n",
        "    # Reset the total loss for this epoch.\n",
        "    total_loss = 0\n",
        "\n",
        "    # Put the model into training mode. Don't be mislead--the call to\n",
        "    # `train` just changes the *mode*, it doesn't *perform* the training.\n",
        "    # `dropout` and `batchnorm` layers behave differently during training\n",
        "    # vs. test (source: https://stackoverflow.com/questions/51433378/what-does-model-train-do-in-pytorch)\n",
        "    model.train()\n",
        "\n",
        "    # For each batch of training data...\n",
        "    for step, batch in enumerate(train_dataloader):\n",
        "\n",
        "        # Progress update every 40 batches.\n",
        "        if step % 40 == 0 and not step == 0:\n",
        "            # Calculate elapsed time in minutes.\n",
        "            elapsed = format_time(time.time() - t0)\n",
        "\n",
        "            # Report progress.\n",
        "            print('  Batch {:>5,}  of  {:>5,}.    Elapsed: {:}.'.format(step, len(train_dataloader), elapsed))\n",
        "\n",
        "        # Unpack this training batch from our dataloader.\n",
        "        #\n",
        "        # As we unpack the batch, we'll also copy each tensor to the GPU using the\n",
        "        # `to` method.\n",
        "        #\n",
        "        # `batch` contains three pytorch tensors:\n",
        "        #   [0]: input ids\n",
        "        #   [1]: attention masks\n",
        "        #   [2]: labels\n",
        "        b_input_ids = batch[0].to(device)\n",
        "        b_input_mask = batch[1].to(device)\n",
        "        b_labels = batch[2].to(device)\n",
        "\n",
        "        # Always clear any previously calculated gradients before performing a\n",
        "        # backward pass. PyTorch doesn't do this automatically because\n",
        "        # accumulating the gradients is \"convenient while training RNNs\".\n",
        "        # (source: https://stackoverflow.com/questions/48001598/why-do-we-need-to-call-zero-grad-in-pytorch)\n",
        "        model.zero_grad()\n",
        "\n",
        "        # Perform a forward pass (evaluate the model on this training batch).\n",
        "        # This will return the loss (rather than the model output) because we\n",
        "        # have provided the `labels`.\n",
        "        # The documentation for this `model` function is here:\n",
        "        # https://huggingface.co/transformers/v2.2.0/model_doc/bert.html#transformers.BertForSequenceClassification\n",
        "        outputs = model(b_input_ids,\n",
        "                    token_type_ids=None,\n",
        "                    attention_mask=b_input_mask,\n",
        "                    labels=b_labels)\n",
        "\n",
        "        # The call to `model` always returns a tuple, so we need to pull the\n",
        "        # loss value out of the tuple.\n",
        "        loss = outputs[0]\n",
        "\n",
        "        # Accumulate the training loss over all of the batches so that we can\n",
        "        # calculate the average loss at the end. `loss` is a Tensor containing a\n",
        "        # single value; the `.item()` function just returns the Python value\n",
        "        # from the tensor.\n",
        "        total_loss += loss.item()\n",
        "\n",
        "        # Perform a backward pass to calculate the gradients.\n",
        "        loss.backward()\n",
        "\n",
        "        # Clip the norm of the gradients to 1.0.\n",
        "        # This is to help prevent the \"exploding gradients\" problem.\n",
        "        torch.nn.utils.clip_grad_norm_(model.parameters(), 1.0)\n",
        "\n",
        "        # Update parameters and take a step using the computed gradient.\n",
        "        # The optimizer dictates the \"update rule\"--how the parameters are\n",
        "        # modified based on their gradients, the learning rate, etc.\n",
        "        optimizer.step()\n",
        "\n",
        "        # Update the learning rate.\n",
        "        scheduler.step()\n",
        "\n",
        "    # Calculate the average loss over the training data.\n",
        "    avg_train_loss = total_loss / len(train_dataloader)\n",
        "\n",
        "    # Store the loss value for plotting the learning curve.\n",
        "    loss_values.append(avg_train_loss)\n",
        "\n",
        "    print(\"\")\n",
        "    print(\"  Average training loss: {0:.2f}\".format(avg_train_loss))\n",
        "    print(\"  Training epcoh took: {:}\".format(format_time(time.time() - t0)))\n",
        "\n",
        "    # ========================================\n",
        "    #               Validation\n",
        "    # ========================================\n",
        "    # After the completion of each training epoch, measure our performance on\n",
        "    # our validation set.\n",
        "\n",
        "    print(\"\")\n",
        "    print(\"Running Validation...\")\n",
        "\n",
        "    t0 = time.time()\n",
        "\n",
        "    # Put the model in evaluation mode--the dropout layers behave differently\n",
        "    # during evaluation.\n",
        "    model.eval()\n",
        "\n",
        "    # Tracking variables\n",
        "    eval_loss, eval_accuracy = 0, 0\n",
        "    nb_eval_steps, nb_eval_examples = 0, 0\n",
        "\n",
        "    # Evaluate data for one epoch\n",
        "    for batch in validation_dataloader:\n",
        "\n",
        "        # Add batch to GPU\n",
        "        batch = tuple(t.to(device) for t in batch)\n",
        "\n",
        "        # Unpack the inputs from our dataloader\n",
        "        b_input_ids, b_input_mask, b_labels = batch\n",
        "\n",
        "        # Telling the model not to compute or store gradients, saving memory and\n",
        "        # speeding up validation\n",
        "        with torch.no_grad():\n",
        "\n",
        "            # Forward pass, calculate logit predictions.\n",
        "            # This will return the logits rather than the loss because we have\n",
        "            # not provided labels.\n",
        "            # token_type_ids is the same as the \"segment ids\", which\n",
        "            # differentiates sentence 1 and 2 in 2-sentence tasks.\n",
        "            # The documentation for this `model` function is here:\n",
        "            # https://huggingface.co/transformers/v2.2.0/model_doc/bert.html#transformers.BertForSequenceClassification\n",
        "            outputs = model(b_input_ids,\n",
        "                            token_type_ids=None,\n",
        "                            attention_mask=b_input_mask)\n",
        "\n",
        "        # Get the \"logits\" output by the model. The \"logits\" are the output\n",
        "        # values prior to applying an activation function like the softmax.\n",
        "        logits = outputs[0]\n",
        "\n",
        "        # Move logits and labels to CPU\n",
        "        logits = logits.detach().cpu().numpy()\n",
        "        label_ids = b_labels.to('cpu').numpy()\n",
        "\n",
        "        # Calculate the accuracy for this batch of test sentences.\n",
        "        tmp_eval_accuracy = flat_accuracy(logits, label_ids)\n",
        "\n",
        "        # Accumulate the total accuracy.\n",
        "        eval_accuracy += tmp_eval_accuracy\n",
        "\n",
        "        # Track the number of batches\n",
        "        nb_eval_steps += 1\n",
        "\n",
        "    # Report the final accuracy for this validation run.\n",
        "    print(\"  Accuracy: {0:.2f}\".format(eval_accuracy/nb_eval_steps))\n",
        "    print(\"  Validation took: {:}\".format(format_time(time.time() - t0)))\n",
        "\n",
        "print(\"\")\n",
        "print(\"Training complete!\")"
      ],
      "metadata": {
        "colab": {
          "base_uri": "https://localhost:8080/"
        },
        "id": "T4MGbxYe0mh8",
        "outputId": "fed4fb35-3eb8-4881-956c-2fde8750ba73"
      },
      "execution_count": 30,
      "outputs": [
        {
          "output_type": "stream",
          "name": "stdout",
          "text": [
            "\n",
            "======== Epoch 1 / 4 ========\n",
            "Training...\n",
            "  Batch    40  of    241.    Elapsed: 0:00:16.\n",
            "  Batch    80  of    241.    Elapsed: 0:00:31.\n",
            "  Batch   120  of    241.    Elapsed: 0:00:45.\n",
            "  Batch   160  of    241.    Elapsed: 0:00:58.\n",
            "  Batch   200  of    241.    Elapsed: 0:01:12.\n",
            "  Batch   240  of    241.    Elapsed: 0:01:25.\n",
            "\n",
            "  Average training loss: 0.50\n",
            "  Training epcoh took: 0:01:26\n",
            "\n",
            "Running Validation...\n",
            "  Accuracy: 0.80\n",
            "  Validation took: 0:00:03\n",
            "\n",
            "======== Epoch 2 / 4 ========\n",
            "Training...\n",
            "  Batch    40  of    241.    Elapsed: 0:00:14.\n",
            "  Batch    80  of    241.    Elapsed: 0:00:28.\n",
            "  Batch   120  of    241.    Elapsed: 0:00:42.\n",
            "  Batch   160  of    241.    Elapsed: 0:00:55.\n",
            "  Batch   200  of    241.    Elapsed: 0:01:09.\n",
            "  Batch   240  of    241.    Elapsed: 0:01:23.\n",
            "\n",
            "  Average training loss: 0.31\n",
            "  Training epcoh took: 0:01:23\n",
            "\n",
            "Running Validation...\n",
            "  Accuracy: 0.82\n",
            "  Validation took: 0:00:03\n",
            "\n",
            "======== Epoch 3 / 4 ========\n",
            "Training...\n",
            "  Batch    40  of    241.    Elapsed: 0:00:14.\n",
            "  Batch    80  of    241.    Elapsed: 0:00:28.\n",
            "  Batch   120  of    241.    Elapsed: 0:00:41.\n",
            "  Batch   160  of    241.    Elapsed: 0:00:55.\n",
            "  Batch   200  of    241.    Elapsed: 0:01:09.\n",
            "  Batch   240  of    241.    Elapsed: 0:01:22.\n",
            "\n",
            "  Average training loss: 0.20\n",
            "  Training epcoh took: 0:01:23\n",
            "\n",
            "Running Validation...\n",
            "  Accuracy: 0.83\n",
            "  Validation took: 0:00:03\n",
            "\n",
            "======== Epoch 4 / 4 ========\n",
            "Training...\n",
            "  Batch    40  of    241.    Elapsed: 0:00:14.\n",
            "  Batch    80  of    241.    Elapsed: 0:00:27.\n",
            "  Batch   120  of    241.    Elapsed: 0:00:41.\n",
            "  Batch   160  of    241.    Elapsed: 0:00:55.\n",
            "  Batch   200  of    241.    Elapsed: 0:01:08.\n",
            "  Batch   240  of    241.    Elapsed: 0:01:22.\n",
            "\n",
            "  Average training loss: 0.13\n",
            "  Training epcoh took: 0:01:22\n",
            "\n",
            "Running Validation...\n",
            "  Accuracy: 0.82\n",
            "  Validation took: 0:00:03\n",
            "\n",
            "Training complete!\n"
          ]
        }
      ]
    },
    {
      "cell_type": "markdown",
      "source": [
        "Training loss over all batches"
      ],
      "metadata": {
        "id": "4dUnQzjr098C"
      }
    },
    {
      "cell_type": "code",
      "source": [
        "import matplotlib.pyplot as plt\n",
        "%matplotlib inline\n",
        "\n",
        "import seaborn as sns\n",
        "\n",
        "# Use plot styling from seaborn.\n",
        "sns.set(style='darkgrid')\n",
        "\n",
        "# Increase the plot size and font size.\n",
        "sns.set(font_scale=1.5)\n",
        "plt.rcParams[\"figure.figsize\"] = (12,6)\n",
        "\n",
        "# Plot the learning curve.\n",
        "plt.plot(loss_values, 'b-o')\n",
        "\n",
        "# Label the plot.\n",
        "plt.title(\"Training loss\")\n",
        "plt.xlabel(\"Epoch\")\n",
        "plt.ylabel(\"Loss\")\n",
        "\n",
        "plt.show()"
      ],
      "metadata": {
        "colab": {
          "base_uri": "https://localhost:8080/",
          "height": 391
        },
        "id": "Jh2Q65aV0r5N",
        "outputId": "7df0e36f-c9f6-4730-b61c-5a3c98339d28"
      },
      "execution_count": 34,
      "outputs": [
        {
          "output_type": "display_data",
          "data": {
            "text/plain": [
              "<Figure size 1200x600 with 1 Axes>"
            ],
            "image/png": "[encoded data removed]"
          },
          "metadata": {}
        }
      ]
    },
    {
      "cell_type": "markdown",
      "source": [
        "## Performance on Test Set\n",
        "\n",
        "Now we'll load the holdout dataset and prepare inputs just as we did with the training set. Then we'll evaluate predictions using [Matthew's correlation coefficient](https://scikit-learn.org/stable/modules/generated/sklearn.metrics.matthews_corrcoef.html) because this is the metric used by the wider NLP community to evaluate performance on CoLA. With this metric, +1 is the best score, and -1 is the worst score. This way, we can see how well we perform against the state of the art models for this specific task."
      ],
      "metadata": {
        "id": "TBWHnIOE1DJW"
      }
    },
    {
      "cell_type": "code",
      "source": [
        "import pandas as pd\n",
        "\n",
        "# Load the dataset into a pandas dataframe.\n",
        "df = pd.read_csv(\"./cola_public/raw/out_of_domain_dev.tsv\", delimiter='\\t', header=None, names=['sentence_source', 'label', 'label_notes', 'sentence'])\n",
        "\n",
        "# Report the number of sentences.\n",
        "print('Number of test sentences: {:,}\\n'.format(df.shape[0]))\n",
        "\n",
        "# Create sentence and label lists\n",
        "sentences = df.sentence.values\n",
        "labels = df.label.values\n",
        "\n",
        "# Tokenize all of the sentences and map the tokens to thier word IDs.\n",
        "input_ids = []\n",
        "\n",
        "# For every sentence...\n",
        "for sent in sentences:\n",
        "    # `encode` will:\n",
        "    #   (1) Tokenize the sentence.\n",
        "    #   (2) Prepend the `[CLS]` token to the start.\n",
        "    #   (3) Append the `[SEP]` token to the end.\n",
        "    #   (4) Map tokens to their IDs.\n",
        "    encoded_sent = tokenizer.encode(\n",
        "                        sent,                      # Sentence to encode.\n",
        "                        add_special_tokens = True, # Add '[CLS]' and '[SEP]'\n",
        "                   )\n",
        "\n",
        "    input_ids.append(encoded_sent)\n",
        "\n",
        "# Pad our input tokens\n",
        "input_ids = pad_sequences(input_ids, maxlen=MAX_LEN,\n",
        "                          dtype=\"long\", truncating=\"post\", padding=\"post\")\n",
        "\n",
        "# Create attention masks\n",
        "attention_masks = []\n",
        "\n",
        "# Create a mask of 1s for each token followed by 0s for padding\n",
        "for seq in input_ids:\n",
        "  seq_mask = [float(i>0) for i in seq]\n",
        "  attention_masks.append(seq_mask)\n",
        "\n",
        "# Convert to tensors.\n",
        "prediction_inputs = torch.tensor(input_ids)\n",
        "prediction_masks = torch.tensor(attention_masks)\n",
        "prediction_labels = torch.tensor(labels)\n",
        "\n",
        "# Set the batch size.\n",
        "batch_size = 32\n",
        "\n",
        "# Create the DataLoader.\n",
        "prediction_data = TensorDataset(prediction_inputs, prediction_masks, prediction_labels)\n",
        "prediction_sampler = SequentialSampler(prediction_data)\n",
        "prediction_dataloader = DataLoader(prediction_data, sampler=prediction_sampler, batch_size=batch_size)"
      ],
      "metadata": {
        "colab": {
          "base_uri": "https://localhost:8080/"
        },
        "id": "sxvTH4GL28y8",
        "outputId": "4fdf4ebf-b8ab-4b64-bd93-c27cb6c0c5ac"
      },
      "execution_count": 36,
      "outputs": [
        {
          "output_type": "stream",
          "name": "stdout",
          "text": [
            "Number of test sentences: 516\n",
            "\n"
          ]
        }
      ]
    },
    {
      "cell_type": "code",
      "source": [
        "# Prediction on test set\n",
        "\n",
        "print('Predicting labels for {:,} test sentences...'.format(len(prediction_inputs)))\n",
        "\n",
        "# Put model in evaluation mode\n",
        "model.eval()\n",
        "\n",
        "# Tracking variables\n",
        "predictions , true_labels = [], []\n",
        "\n",
        "# Predict\n",
        "for batch in prediction_dataloader:\n",
        "  # Add batch to GPU\n",
        "  batch = tuple(t.to(device) for t in batch)\n",
        "\n",
        "  # Unpack the inputs from our dataloader\n",
        "  b_input_ids, b_input_mask, b_labels = batch\n",
        "\n",
        "  # Telling the model not to compute or store gradients, saving memory and\n",
        "  # speeding up prediction\n",
        "  with torch.no_grad():\n",
        "      # Forward pass, calculate logit predictions\n",
        "      outputs = model(b_input_ids, token_type_ids=None,\n",
        "                      attention_mask=b_input_mask)\n",
        "\n",
        "  logits = outputs[0]\n",
        "\n",
        "  # Move logits and labels to CPU\n",
        "  logits = logits.detach().cpu().numpy()\n",
        "  label_ids = b_labels.to('cpu').numpy()\n",
        "\n",
        "  # Store predictions and true labels\n",
        "  predictions.append(logits)\n",
        "  true_labels.append(label_ids)\n",
        "\n",
        "print('    DONE.')"
      ],
      "metadata": {
        "colab": {
          "base_uri": "https://localhost:8080/"
        },
        "id": "YygJudzi1JSn",
        "outputId": "ea1fddad-099b-4816-a394-c10e5b342cef"
      },
      "execution_count": 37,
      "outputs": [
        {
          "output_type": "stream",
          "name": "stdout",
          "text": [
            "Predicting labels for 516 test sentences...\n",
            "    DONE.\n"
          ]
        }
      ]
    },
    {
      "cell_type": "markdown",
      "source": [
        "Accuracy on the CoLA benchmark is measured using the \"Matthews correlation coefficient\" (MCC).\n",
        "\n",
        "We use MCC here because the classes are imbalanced:"
      ],
      "metadata": {
        "id": "5D4CptSm1L_5"
      }
    },
    {
      "cell_type": "code",
      "source": [
        "print('Positive samples: %d of %d (%.2f%%)' % (df.label.sum(), len(df.label), (df.label.sum() / len(df.label) * 100.0)))"
      ],
      "metadata": {
        "colab": {
          "base_uri": "https://localhost:8080/"
        },
        "id": "RljEclIf1NC8",
        "outputId": "11755e5a-fc29-4b82-dfbd-8568b2f154cc"
      },
      "execution_count": 38,
      "outputs": [
        {
          "output_type": "stream",
          "name": "stdout",
          "text": [
            "Positive samples: 354 of 516 (68.60%)\n"
          ]
        }
      ]
    },
    {
      "cell_type": "code",
      "source": [
        "from sklearn.metrics import matthews_corrcoef\n",
        "\n",
        "matthews_set = []\n",
        "\n",
        "# Evaluate each test batch using Matthew's correlation coefficient\n",
        "print('Calculating Matthews Corr. Coef. for each batch...')\n",
        "\n",
        "# For each input batch...\n",
        "for i in range(len(true_labels)):\n",
        "\n",
        "  # The predictions for this batch are a 2-column ndarray (one column for \"0\"\n",
        "  # and one column for \"1\"). Pick the label with the highest value and turn this\n",
        "  # in to a list of 0s and 1s.\n",
        "  pred_labels_i = np.argmax(predictions[i], axis=1).flatten()\n",
        "\n",
        "  # Calculate and store the coef for this batch.\n",
        "  matthews = matthews_corrcoef(true_labels[i], pred_labels_i)\n",
        "  matthews_set.append(matthews)"
      ],
      "metadata": {
        "colab": {
          "base_uri": "https://localhost:8080/"
        },
        "id": "Bra6aLYb1PJP",
        "outputId": "70fa143f-8fe7-459b-bc81-ded7a62e88fe"
      },
      "execution_count": 39,
      "outputs": [
        {
          "output_type": "stream",
          "name": "stdout",
          "text": [
            "Calculating Matthews Corr. Coef. for each batch...\n"
          ]
        }
      ]
    },
    {
      "cell_type": "code",
      "source": [
        "# Combine the predictions for each batch into a single list of 0s and 1s.\n",
        "flat_predictions = [item for sublist in predictions for item in sublist]\n",
        "flat_predictions = np.argmax(flat_predictions, axis=1).flatten()\n",
        "\n",
        "# Combine the correct labels for each batch into a single list.\n",
        "flat_true_labels = [item for sublist in true_labels for item in sublist]\n",
        "\n",
        "# Calculate the MCC\n",
        "mcc = matthews_corrcoef(flat_true_labels, flat_predictions)\n",
        "\n",
        "print('MCC: %.3f' % mcc)"
      ],
      "metadata": {
        "colab": {
          "base_uri": "https://localhost:8080/"
        },
        "id": "V6c_qUda1Y5u",
        "outputId": "55541470-ec78-49e7-8094-2254fdb92bbc"
      },
      "execution_count": 40,
      "outputs": [
        {
          "output_type": "stream",
          "name": "stdout",
          "text": [
            "MCC: 0.540\n"
          ]
        }
      ]
    },
    {
      "cell_type": "markdown",
      "source": [
        "## A1. Saving & Loading Fine-Tuned Model\n",
        "\n",
        "This first cell (taken from `run_glue.py` [here](https://github.com/huggingface/transformers/blob/35ff345fc9df9e777b27903f11fa213e4052595b/examples/run_glue.py#L495)) writes the model and tokenizer out to disk.\n"
      ],
      "metadata": {
        "id": "AjwxtRKy17GW"
      }
    },
    {
      "cell_type": "code",
      "source": [
        "import os\n",
        "\n",
        "# Saving best-practices: if you use defaults names for the model, you can reload it using from_pretrained()\n",
        "\n",
        "output_dir = './model_save/'\n",
        "\n",
        "# Create output directory if needed\n",
        "if not os.path.exists(output_dir):\n",
        "    os.makedirs(output_dir)\n",
        "\n",
        "print(\"Saving model to %s\" % output_dir)\n",
        "\n",
        "# Save a trained model, configuration and tokenizer using `save_pretrained()`.\n",
        "# They can then be reloaded using `from_pretrained()`\n",
        "model_to_save = model.module if hasattr(model, 'module') else model  # Take care of distributed/parallel training\n",
        "model_to_save.save_pretrained(output_dir)\n",
        "tokenizer.save_pretrained(output_dir)\n",
        "\n",
        "# Good practice: save your training arguments together with the trained model\n",
        "# torch.save(args, os.path.join(output_dir, 'training_args.bin'))\n"
      ],
      "metadata": {
        "colab": {
          "base_uri": "https://localhost:8080/"
        },
        "id": "NNAjdS2I1_wf",
        "outputId": "099770d9-0fda-4a53-96a5-b4da659a6b25"
      },
      "execution_count": 42,
      "outputs": [
        {
          "output_type": "stream",
          "name": "stdout",
          "text": [
            "Saving model to ./model_save/\n"
          ]
        },
        {
          "output_type": "execute_result",
          "data": {
            "text/plain": [
              "('./model_save/tokenizer_config.json',\n",
              " './model_save/special_tokens_map.json',\n",
              " './model_save/vocab.txt',\n",
              " './model_save/added_tokens.json')"
            ]
          },
          "metadata": {},
          "execution_count": 42
        }
      ]
    },
    {
      "cell_type": "code",
      "source": [
        "!ls -l --block-size=K ./model_save/"
      ],
      "metadata": {
        "colab": {
          "base_uri": "https://localhost:8080/"
        },
        "id": "7i4VZSHN2EBn",
        "outputId": "ac4a7906-418a-4895-a5b8-f2019b2414d1"
      },
      "execution_count": 43,
      "outputs": [
        {
          "output_type": "stream",
          "name": "stdout",
          "text": [
            "total 427936K\n",
            "-rw-r--r-- 1 root root      1K Jan  4 19:03 config.json\n",
            "-rw-r--r-- 1 root root 427694K Jan  4 19:03 model.safetensors\n",
            "-rw-r--r-- 1 root root      1K Jan  4 19:03 special_tokens_map.json\n",
            "-rw-r--r-- 1 root root      2K Jan  4 19:03 tokenizer_config.json\n",
            "-rw-r--r-- 1 root root    227K Jan  4 19:03 vocab.txt\n"
          ]
        }
      ]
    },
    {
      "cell_type": "code",
      "source": [
        "!ls -l --block-size=M ./model_save/pytorch_model.bin"
      ],
      "metadata": {
        "colab": {
          "base_uri": "https://localhost:8080/"
        },
        "id": "XIRYqfyx2F8F",
        "outputId": "3f8f2a0c-c571-4f66-b855-d4611c0b1f94"
      },
      "execution_count": 44,
      "outputs": [
        {
          "output_type": "stream",
          "name": "stdout",
          "text": [
            "ls: cannot access './model_save/pytorch_model.bin': No such file or directory\n"
          ]
        }
      ]
    },
    {
      "cell_type": "markdown",
      "source": [
        "## A.2. Weight Decay\n"
      ],
      "metadata": {
        "id": "btmI2Nc72THK"
      }
    },
    {
      "cell_type": "markdown",
      "source": [
        "The huggingface example includes the following code block for enabling weight decay, but the default decay rate is \"0.0\", so I moved this to the appendix.\n",
        "\n",
        "This block essentially tells the optimizer to not apply weight decay to the bias terms (e.g., $ b $ in the equation $ y = Wx + b $ ). Weight decay is a form of regularization--after calculating the gradients, we multiply them by, e.g., 0.99."
      ],
      "metadata": {
        "id": "EryH6tbt2PtY"
      }
    },
    {
      "cell_type": "code",
      "source": [],
      "metadata": {
        "id": "FQwMTjjg3PHW"
      },
      "execution_count": null,
      "outputs": []
    }
  ]
}